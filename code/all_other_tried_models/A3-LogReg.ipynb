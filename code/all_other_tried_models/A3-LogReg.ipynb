{
 "cells": [
  {
   "cell_type": "markdown",
   "id": "069f9a3c",
   "metadata": {},
   "source": [
    "<h1>Part 1: Importing Libraries</h1>"
   ]
  },
  {
   "cell_type": "code",
   "execution_count": 1,
   "id": "e417a78e",
   "metadata": {},
   "outputs": [],
   "source": [
    "import pandas as pd\n",
    "import numpy as np"
   ]
  },
  {
   "cell_type": "markdown",
   "id": "2bf14769",
   "metadata": {},
   "source": [
    "<h1>Part 2: Loading Datasets</h1>"
   ]
  },
  {
   "cell_type": "code",
   "execution_count": 2,
   "id": "1e845f16",
   "metadata": {},
   "outputs": [
    {
     "name": "stdout",
     "output_type": "stream",
     "text": [
      "Part A Training Data\n",
      "<class 'pandas.core.frame.DataFrame'>\n",
      "RangeIndex: 6000 entries, 0 to 5999\n",
      "Columns: 129 entries, R1-PA1:VH to marker\n",
      "dtypes: float64(112), int64(17)\n",
      "memory usage: 5.9 MB\n",
      "\n",
      "Part A Testing Data\n",
      "<class 'pandas.core.frame.DataFrame'>\n",
      "RangeIndex: 100 entries, 0 to 99\n",
      "Columns: 128 entries, R1-PA1:VH to snort_log4\n",
      "dtypes: float64(112), int64(16)\n",
      "memory usage: 100.1 KB\n"
     ]
    }
   ],
   "source": [
    "trainDataBinary = pd.read_csv('data\\TrainingDataBinary.csv', sep=',')\n",
    "testDataBinary = pd.read_csv('data\\TestingDataBinary.csv', sep=',')\n",
    "\n",
    "# to check whether data was correctly loaded\n",
    "print(\"Part A Training Data\")\n",
    "trainDataBinary.info() \n",
    "print(\"\\nPart A Testing Data\")\n",
    "testDataBinary.info()"
   ]
  },
  {
   "cell_type": "markdown",
   "id": "cb8a1180",
   "metadata": {},
   "source": [
    "<h1>Part 3: Data Preprocessing</h1>\n",
    "\n",
    "The hold-out method was used to separate the labelled data instances into a training set and a test set. A 80-20 split was used instead of a 70-30 split. The 80-20 split gives a larger training set for the model, which can potentially improve classification performance.\n",
    "\n",
    "The provided training data has a balanced distribution of the two labels. Therefore, the training set and test set will also has the same distribution. "
   ]
  },
  {
   "cell_type": "code",
   "execution_count": 3,
   "id": "966447f2",
   "metadata": {},
   "outputs": [],
   "source": [
    "from sklearn.model_selection import train_test_split\n",
    "\n",
    "# getting the labels\n",
    "Y = trainDataBinary['marker']\n",
    "# removing the labels in the dataset\n",
    "X = trainDataBinary.drop('marker',axis=1)\n",
    "\n",
    "# splitting the training dataset into training set and test set\n",
    "# 80-20 split (larger training set to improve model performance)\n",
    "X_train, X_test, Y_train, Y_test = train_test_split(X, Y, test_size=0.2, random_state=58, stratify=Y)"
   ]
  },
  {
   "cell_type": "code",
   "execution_count": 4,
   "id": "1c5400ce",
   "metadata": {},
   "outputs": [
    {
     "data": {
      "text/plain": [
       "1    600\n",
       "0    600\n",
       "Name: marker, dtype: int64"
      ]
     },
     "execution_count": 4,
     "metadata": {},
     "output_type": "execute_result"
    }
   ],
   "source": [
    "# ensuring test set has 50-50 split of labels\n",
    "Y_test.value_counts()"
   ]
  },
  {
   "cell_type": "markdown",
   "id": "9fddf4de",
   "metadata": {},
   "source": [
    "MinMax Scaling to attempt to speed up CV."
   ]
  },
  {
   "cell_type": "code",
   "execution_count": 5,
   "id": "23660efc",
   "metadata": {},
   "outputs": [],
   "source": [
    "from sklearn.preprocessing import MinMaxScaler\n",
    "\n",
    "scaler = MinMaxScaler()\n",
    "X_train = scaler.fit_transform(X_train)\n",
    "X_test = scaler.transform(X_test)\n",
    "testDataBinary = scaler.transform(testDataBinary)"
   ]
  },
  {
   "cell_type": "markdown",
   "id": "83888552",
   "metadata": {},
   "source": [
    "<h1>Part 4: Feature Selection</h1>\n",
    "\n",
    "None. Raw features were used to train the model."
   ]
  },
  {
   "cell_type": "markdown",
   "id": "000b877c",
   "metadata": {},
   "source": [
    "<h1>Part 5: Model Selection (Logistic Regression)</h1>"
   ]
  },
  {
   "cell_type": "code",
   "execution_count": 6,
   "id": "470e18d6",
   "metadata": {},
   "outputs": [],
   "source": [
    "from sklearn.linear_model import LogisticRegression\n",
    "clf = LogisticRegression(max_iter=10000, tol=0.1)"
   ]
  },
  {
   "cell_type": "markdown",
   "id": "dadb1580",
   "metadata": {},
   "source": [
    "<h1>Part 6: Hyperparameter Tuning</h1>\n",
    "\n",
    "Optimal value of the hyperparameter C was found using GridSearchCV in the range of 0 to 10000 (50 points on a log scale)."
   ]
  },
  {
   "cell_type": "code",
   "execution_count": 7,
   "id": "8bc78797",
   "metadata": {},
   "outputs": [
    {
     "name": "stdout",
     "output_type": "stream",
     "text": [
      "Fitting 5 folds for each of 50 candidates, totalling 250 fits\n",
      "Best parameter (CV score=0.914):\n",
      "{'C': 10000.0}\n"
     ]
    }
   ],
   "source": [
    "from sklearn.model_selection import GridSearchCV\n",
    "\n",
    "param_grid = {\n",
    "    \"C\": np.logspace(0, 4, 50),\n",
    "}\n",
    "\n",
    "bestC = GridSearchCV(clf, param_grid, n_jobs=-1, cv=5, verbose=4)\n",
    "bestC.fit(X_train, Y_train)\n",
    "print(\"Best parameter (CV score=%0.3f):\" % bestC.best_score_)\n",
    "print(bestC.best_params_)"
   ]
  },
  {
   "cell_type": "code",
   "execution_count": 8,
   "id": "ec9c9d06",
   "metadata": {},
   "outputs": [
    {
     "name": "stdout",
     "output_type": "stream",
     "text": [
      "    mean_fit_time  std_fit_time  mean_score_time  std_score_time      param_C  \\\n",
      "0        0.936074      0.083334         0.002512        0.000446          1.0   \n",
      "1        1.078244      0.055024         0.001912        0.000500     1.206793   \n",
      "2        1.189732      0.100400         0.001800        0.000404     1.456348   \n",
      "3        1.186646      0.125439         0.001889        0.000652     1.757511   \n",
      "4        1.361315      0.091156         0.001725        0.000407     2.120951   \n",
      "5        1.481893      0.148920         0.001796        0.000401     2.559548   \n",
      "6        1.639875      0.082759         0.001523        0.000446     3.088844   \n",
      "7        1.870291      0.096200         0.001706        0.000602     3.727594   \n",
      "8        1.678897      0.127088         0.002007        0.000015     4.498433   \n",
      "9        2.046080      0.169567         0.001722        0.000604     5.428675   \n",
      "10       2.134287      0.162273         0.001406        0.000491     6.551286   \n",
      "11       2.019683      0.329732         0.001418        0.000608     7.906043   \n",
      "12       2.631421      0.397729         0.000800        0.000400     9.540955   \n",
      "13       2.821458      0.638158         0.000800        0.000400    11.513954   \n",
      "14       3.199262      0.467216         0.001216        0.000374    13.894955   \n",
      "15       3.387136      0.617298         0.000843        0.000425    16.768329   \n",
      "16       3.821507      0.617237         0.001002        0.000019    20.235896   \n",
      "17       4.351564      1.234545         0.000957        0.000531    24.420531   \n",
      "18       4.371757      0.684345         0.000808        0.000405    29.470517   \n",
      "19       4.915153      0.703345         0.001367        0.000296    35.564803   \n",
      "20       5.402162      1.118421         0.001059        0.000067    42.919343   \n",
      "21       5.753319      1.507589         0.001279        0.000334    51.794747   \n",
      "22       6.020701      0.952765         0.001000        0.000014    62.505519   \n",
      "23       5.681666      0.482770         0.000947        0.000210    75.431201   \n",
      "24       6.219811      1.273279         0.000906        0.000182    91.029818   \n",
      "25       6.780929      0.647134         0.001047        0.000059   109.854114   \n",
      "26       7.895277      1.282684         0.000946        0.000528   132.571137   \n",
      "27       8.339399      0.974124         0.001036        0.000346   159.985872   \n",
      "28       7.911183      1.617586         0.000801        0.000401   193.069773   \n",
      "29       9.707155      1.177957         0.026716        0.051371   232.995181   \n",
      "30       7.835000      3.065582         0.001026        0.000052    281.17687   \n",
      "31       8.563479      1.620105         0.000998        0.000002   339.322177   \n",
      "32      10.085329      1.919340         0.001142        0.000270   409.491506   \n",
      "33       7.533182      0.902670         0.001010        0.000009   494.171336   \n",
      "34       8.403395      1.475960         0.001401        0.000312   596.362332   \n",
      "35       9.509329      1.394302         0.000793        0.000397   719.685673   \n",
      "36       9.077594      1.261804         0.000827        0.000415   868.511374   \n",
      "37      10.009136      1.273610         0.000976        0.000560  1048.113134   \n",
      "38       9.856563      2.194598         0.000910        0.000184  1264.855217   \n",
      "39      10.919059      2.173860         0.001105        0.000219  1526.417967   \n",
      "40       9.413542      0.621883         0.000781        0.000391  1842.069969   \n",
      "41      12.907581      1.433683         0.000799        0.000400  2222.996483   \n",
      "42      12.053639      0.960980         0.000806        0.000409  2682.695795   \n",
      "43      14.790049      1.759625         0.000996        0.000011  3237.457543   \n",
      "44      12.529587      2.306119         0.000998        0.000055  3906.939937   \n",
      "45      14.589028      1.066542         0.001125        0.000251  4714.866363   \n",
      "46      13.702238      1.126885         0.000815        0.000408  5689.866029   \n",
      "47      15.218844      0.862132         0.001007        0.000076   6866.48845   \n",
      "48      12.619367      1.782506         0.000925        0.000524  8286.427729   \n",
      "49       9.999095      0.860335         0.000524        0.000450      10000.0   \n",
      "\n",
      "                       params  split0_test_score  split1_test_score  \\\n",
      "0                  {'C': 1.0}           0.782292           0.773958   \n",
      "1   {'C': 1.2067926406393286}           0.801042           0.789583   \n",
      "2   {'C': 1.4563484775012439}           0.818750           0.805208   \n",
      "3   {'C': 1.7575106248547918}           0.834375           0.819792   \n",
      "4    {'C': 2.120950887920191}           0.841667           0.819792   \n",
      "5   {'C': 2.5595479226995357}           0.853125           0.827083   \n",
      "6    {'C': 3.088843596477481}           0.856250           0.832292   \n",
      "7     {'C': 3.72759372031494}           0.859375           0.837500   \n",
      "8    {'C': 4.498432668969445}           0.864583           0.843750   \n",
      "9    {'C': 5.428675439323859}           0.867708           0.850000   \n",
      "10   {'C': 6.551285568595508}           0.868750           0.850000   \n",
      "11   {'C': 7.906043210907698}           0.869792           0.855208   \n",
      "12    {'C': 9.54095476349994}           0.875000           0.855208   \n",
      "13  {'C': 11.513953993264469}           0.875000           0.858333   \n",
      "14  {'C': 13.894954943731374}           0.875000           0.860417   \n",
      "15  {'C': 16.768329368110074}           0.875000           0.862500   \n",
      "16  {'C': 20.235896477251565}           0.873958           0.863542   \n",
      "17   {'C': 24.42053094548651}           0.876042           0.865625   \n",
      "18    {'C': 29.4705170255181}           0.873958           0.864583   \n",
      "19  {'C': 35.564803062231285}           0.875000           0.867708   \n",
      "20   {'C': 42.91934260128776}           0.875000           0.868750   \n",
      "21    {'C': 51.7947467923121}           0.878125           0.868750   \n",
      "22  {'C': 62.505519252739695}           0.878125           0.871875   \n",
      "23   {'C': 75.43120063354615}           0.877083           0.870833   \n",
      "24   {'C': 91.02981779915217}           0.878125           0.872917   \n",
      "25  {'C': 109.85411419875584}           0.878125           0.873958   \n",
      "26  {'C': 132.57113655901082}           0.878125           0.876042   \n",
      "27  {'C': 159.98587196060572}           0.879167           0.878125   \n",
      "28  {'C': 193.06977288832496}           0.882292           0.881250   \n",
      "29  {'C': 232.99518105153717}           0.885417           0.880208   \n",
      "30   {'C': 281.1768697974228}           0.887500           0.883333   \n",
      "31   {'C': 339.3221771895326}           0.886458           0.882292   \n",
      "32  {'C': 409.49150623804235}           0.887500           0.881250   \n",
      "33   {'C': 494.1713361323833}           0.888542           0.882292   \n",
      "34   {'C': 596.3623316594643}           0.889583           0.882292   \n",
      "35   {'C': 719.6856730011514}           0.890625           0.885417   \n",
      "36    {'C': 868.511373751352}           0.893750           0.886458   \n",
      "37  {'C': 1048.1131341546852}           0.897917           0.888542   \n",
      "38  {'C': 1264.8552168552958}           0.895833           0.890625   \n",
      "39  {'C': 1526.4179671752318}           0.896875           0.895833   \n",
      "40  {'C': 1842.0699693267145}           0.900000           0.896875   \n",
      "41   {'C': 2222.996482526193}           0.898958           0.897917   \n",
      "42  {'C': 2682.6957952797247}           0.901042           0.897917   \n",
      "43   {'C': 3237.457542817643}           0.898958           0.898958   \n",
      "44   {'C': 3906.939937054613}           0.900000           0.905208   \n",
      "45  {'C': 4714.8663634573895}           0.902083           0.904167   \n",
      "46   {'C': 5689.866029018293}           0.904167           0.907292   \n",
      "47   {'C': 6866.488450042998}           0.904167           0.909375   \n",
      "48   {'C': 8286.427728546843}           0.907292           0.915625   \n",
      "49             {'C': 10000.0}           0.908333           0.916667   \n",
      "\n",
      "    split2_test_score  split3_test_score  split4_test_score  mean_test_score  \\\n",
      "0            0.754167           0.790625           0.767708         0.773750   \n",
      "1            0.767708           0.805208           0.791667         0.791042   \n",
      "2            0.796875           0.815625           0.812500         0.809792   \n",
      "3            0.825000           0.834375           0.829167         0.828542   \n",
      "4            0.841667           0.851042           0.834375         0.837708   \n",
      "5            0.850000           0.859375           0.842708         0.846458   \n",
      "6            0.856250           0.865625           0.841667         0.850417   \n",
      "7            0.861458           0.869792           0.844792         0.854583   \n",
      "8            0.866667           0.876042           0.850000         0.860208   \n",
      "9            0.868750           0.883333           0.855208         0.865000   \n",
      "10           0.871875           0.883333           0.860417         0.866875   \n",
      "11           0.872917           0.884375           0.862500         0.868958   \n",
      "12           0.872917           0.887500           0.864583         0.871042   \n",
      "13           0.873958           0.888542           0.865625         0.872292   \n",
      "14           0.878125           0.888542           0.868750         0.874167   \n",
      "15           0.878125           0.887500           0.871875         0.875000   \n",
      "16           0.877083           0.890625           0.872917         0.875625   \n",
      "17           0.877083           0.891667           0.875000         0.877083   \n",
      "18           0.878125           0.891667           0.877083         0.877083   \n",
      "19           0.877083           0.893750           0.878125         0.878333   \n",
      "20           0.878125           0.893750           0.878125         0.878750   \n",
      "21           0.879167           0.895833           0.881250         0.880625   \n",
      "22           0.879167           0.894792           0.883333         0.881458   \n",
      "23           0.881250           0.894792           0.883333         0.881458   \n",
      "24           0.881250           0.895833           0.884375         0.882500   \n",
      "25           0.882292           0.896875           0.885417         0.883333   \n",
      "26           0.882292           0.896875           0.885417         0.883750   \n",
      "27           0.882292           0.896875           0.886458         0.884583   \n",
      "28           0.881250           0.898958           0.887500         0.886250   \n",
      "29           0.882292           0.897917           0.886458         0.886458   \n",
      "30           0.882292           0.897917           0.889583         0.888125   \n",
      "31           0.884375           0.898958           0.887500         0.887917   \n",
      "32           0.884375           0.898958           0.893750         0.889167   \n",
      "33           0.886458           0.901042           0.892708         0.890208   \n",
      "34           0.887500           0.901042           0.894792         0.891042   \n",
      "35           0.889583           0.901042           0.896875         0.892708   \n",
      "36           0.892708           0.904167           0.898958         0.895208   \n",
      "37           0.893750           0.906250           0.902083         0.897708   \n",
      "38           0.891667           0.902083           0.904167         0.896875   \n",
      "39           0.894792           0.902083           0.907292         0.899375   \n",
      "40           0.892708           0.903125           0.911458         0.900833   \n",
      "41           0.893750           0.903125           0.910417         0.900833   \n",
      "42           0.895833           0.905208           0.914583         0.902917   \n",
      "43           0.898958           0.907292           0.921875         0.905208   \n",
      "44           0.900000           0.906250           0.916667         0.905625   \n",
      "45           0.901042           0.911458           0.925000         0.908750   \n",
      "46           0.900000           0.911458           0.922917         0.909167   \n",
      "47           0.900000           0.911458           0.925000         0.910000   \n",
      "48           0.902083           0.911458           0.927083         0.912708   \n",
      "49           0.904167           0.913542           0.926042         0.913750   \n",
      "\n",
      "    std_test_score  rank_test_score  \n",
      "0         0.012472               50  \n",
      "1         0.013020               49  \n",
      "2         0.007867               48  \n",
      "3         0.005613               47  \n",
      "4         0.010404               46  \n",
      "5         0.011075               45  \n",
      "6         0.011870               44  \n",
      "7         0.011741               43  \n",
      "8         0.011719               42  \n",
      "9         0.011648               41  \n",
      "10        0.011188               40  \n",
      "11        0.009847               39  \n",
      "12        0.010793               38  \n",
      "13        0.010134               37  \n",
      "14        0.009396               36  \n",
      "15        0.008149               35  \n",
      "16        0.008755               34  \n",
      "17        0.008359               33  \n",
      "18        0.008715               32  \n",
      "19        0.008524               31  \n",
      "20        0.008244               30  \n",
      "21        0.008730               29  \n",
      "22        0.007609               28  \n",
      "23        0.007917               27  \n",
      "24        0.007666               26  \n",
      "25        0.007795               25  \n",
      "26        0.007324               24  \n",
      "27        0.006796               23  \n",
      "28        0.006764               22  \n",
      "29        0.006145               21  \n",
      "30        0.005575               19  \n",
      "31        0.005803               20  \n",
      "32        0.006408               18  \n",
      "33        0.006374               17  \n",
      "34        0.006408               16  \n",
      "35        0.005551               15  \n",
      "36        0.005988               14  \n",
      "37        0.006194               12  \n",
      "38        0.005433               13  \n",
      "39        0.004686               11  \n",
      "40        0.006333                9  \n",
      "41        0.005644                9  \n",
      "42        0.006634                8  \n",
      "43        0.008937                7  \n",
      "44        0.006095                6  \n",
      "45        0.008902                5  \n",
      "46        0.007834                4  \n",
      "47        0.008503                3  \n",
      "48        0.008473                2  \n",
      "49        0.007494                1  \n"
     ]
    }
   ],
   "source": [
    "results = pd.DataFrame(bestC.cv_results_)\n",
    "print(results)"
   ]
  },
  {
   "cell_type": "markdown",
   "id": "bd9ea070",
   "metadata": {},
   "source": [
    "<h1>Part 7: Final Evaluation on Test Set</h1>\n",
    "\n",
    "Positive case = Abnormal cases\n",
    "\n",
    "Negative case = Normal cases\n",
    "\n",
    "FP = Normal classified as Abnormal\n",
    "\n",
    "FN = Abnormal classified as Normal\n",
    "\n",
    "TP = Abnormal classified as Abnormal\n",
    "\n",
    "TN = Normal classified as Normal"
   ]
  },
  {
   "cell_type": "code",
   "execution_count": 9,
   "id": "d684868a",
   "metadata": {},
   "outputs": [],
   "source": [
    "from sklearn import metrics\n",
    "from matplotlib import pyplot as plt\n",
    "\n",
    "def eval(title, target, prediction):\n",
    "    TP = 0\n",
    "    FP = 0\n",
    "    TN = 0\n",
    "    FN = 0\n",
    "\n",
    "    for true, guess in zip(Y_test, Y_pred):\n",
    "        if(true == 1 and guess == 1):\n",
    "            TP = TP + 1\n",
    "        if(true == 0 and guess == 1):\n",
    "            FP = FP + 1\n",
    "        if(true == 0 and guess == 0):\n",
    "            TN = TN + 1\n",
    "        if(true == 1 and guess == 0):\n",
    "            FN = FN + 1\n",
    "    \n",
    "    precision = TP / (TP + FP)\n",
    "    recall = TP / (TP + FN)\n",
    "    manual_f1 = 2 * (precision * recall) / (precision + recall)\n",
    "    \n",
    "    acc = metrics.accuracy_score(target, prediction)\n",
    "    f1 = metrics.f1_score(target, prediction, pos_label=1)\n",
    "    \n",
    "    target_names = ['normal', 'abnormal']\n",
    "    cm = metrics.confusion_matrix(target, prediction)\n",
    "    cmplt = metrics.ConfusionMatrixDisplay(cm)\n",
    "    cmplt.plot()\n",
    "    plt.title(title)\n",
    "    plt.show()\n",
    "    \n",
    "    print(\"\\n\")\n",
    "    print(title)\n",
    "    print(\"\\n\")\n",
    "    print(\"TP: %d FP: %d TN: %d FN: %d\" % (TP, FP, TN, FN))\n",
    "    print(\"Accuracy: %0.3f\" % acc)\n",
    "    print(\"Built-in function F1: %0.3f\" % f1)\n",
    "    print(\"Manually calculated F1: %0.3f\" % manual_f1)\n",
    "    print(\"\\n\")\n",
    "    \n",
    "    print(metrics.classification_report(target, prediction, target_names=target_names))"
   ]
  },
  {
   "cell_type": "code",
   "execution_count": 10,
   "id": "19d02559",
   "metadata": {},
   "outputs": [
    {
     "name": "stdout",
     "output_type": "stream",
     "text": [
      "{'C': 10000.0}\n"
     ]
    },
    {
     "data": {
      "image/png": "[encoded data removed]",
      "text/plain": [
       "<Figure size 640x480 with 2 Axes>"
      ]
     },
     "metadata": {},
     "output_type": "display_data"
    },
    {
     "name": "stdout",
     "output_type": "stream",
     "text": [
      "\n",
      "\n",
      "Logistic Regression (Best C with MinMaxScaler)\n",
      "\n",
      "\n",
      "TP: 535 FP: 40 TN: 560 FN: 65\n",
      "Accuracy: 0.912\n",
      "Built-in function F1: 0.911\n",
      "Manually calculated F1: 0.911\n",
      "\n",
      "\n",
      "              precision    recall  f1-score   support\n",
      "\n",
      "      normal       0.90      0.93      0.91       600\n",
      "    abnormal       0.93      0.89      0.91       600\n",
      "\n",
      "    accuracy                           0.91      1200\n",
      "   macro avg       0.91      0.91      0.91      1200\n",
      "weighted avg       0.91      0.91      0.91      1200\n",
      "\n",
      "Final Accuracy:  0.9125\n"
     ]
    }
   ],
   "source": [
    "print(bestC.best_params_)\n",
    "Y_pred = bestC.predict(X_test)\n",
    "eval(\"Logistic Regression (Best C with MinMaxScaler)\", Y_test, Y_pred)\n",
    "accuracy = bestC.score(X_test, Y_test)\n",
    "print(\"Final Accuracy: \", accuracy)"
   ]
  },
  {
   "cell_type": "markdown",
   "id": "6f71e3ad",
   "metadata": {},
   "source": [
    "<h1>Part 8: Predicting Test Set</h1>"
   ]
  },
  {
   "cell_type": "code",
   "execution_count": 11,
   "id": "30a8bf0f",
   "metadata": {},
   "outputs": [],
   "source": [
    "Y_final = bestC.predict(testDataBinary)\n",
    "Y_final = pd.DataFrame(Y_final, columns=['Final Prediction'])"
   ]
  },
  {
   "cell_type": "code",
   "execution_count": 12,
   "id": "e0d2cb30",
   "metadata": {},
   "outputs": [
    {
     "data": {
      "text/plain": [
       "Final Prediction\n",
       "1                   54\n",
       "0                   46\n",
       "dtype: int64"
      ]
     },
     "execution_count": 12,
     "metadata": {},
     "output_type": "execute_result"
    }
   ],
   "source": [
    "Y_final.value_counts()"
   ]
  },
  {
   "cell_type": "markdown",
   "id": "c8581e5c",
   "metadata": {},
   "source": [
    "<h1>Part 9: Exporting to .csv File</h1>"
   ]
  },
  {
   "cell_type": "code",
   "execution_count": 13,
   "id": "1b449dd3",
   "metadata": {},
   "outputs": [],
   "source": [
    "Y_final.to_csv('results_csv/A3.csv', index=False)"
   ]
  },
  {
   "cell_type": "code",
   "execution_count": null,
   "id": "06c7972b",
   "metadata": {},
   "outputs": [],
   "source": []
  }
 ],
 "metadata": {
  "kernelspec": {
   "display_name": "Python 3 (ipykernel)",
   "language": "python",
   "name": "python3"
  },
  "language_info": {
   "codemirror_mode": {
    "name": "ipython",
    "version": 3
   },
   "file_extension": ".py",
   "mimetype": "text/x-python",
   "name": "python",
   "nbconvert_exporter": "python",
   "pygments_lexer": "ipython3",
   "version": "3.10.8"
  }
 },
 "nbformat": 4,
 "nbformat_minor": 5
}
