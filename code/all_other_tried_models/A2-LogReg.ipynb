{
 "cells": [
  {
   "cell_type": "markdown",
   "id": "069f9a3c",
   "metadata": {},
   "source": [
    "<h1>Part 1: Importing Libraries</h1>"
   ]
  },
  {
   "cell_type": "code",
   "execution_count": 1,
   "id": "e417a78e",
   "metadata": {},
   "outputs": [],
   "source": [
    "import pandas as pd\n",
    "import numpy as np"
   ]
  },
  {
   "cell_type": "markdown",
   "id": "2bf14769",
   "metadata": {},
   "source": [
    "<h1>Part 2: Loading Datasets</h1>"
   ]
  },
  {
   "cell_type": "code",
   "execution_count": 2,
   "id": "1e845f16",
   "metadata": {},
   "outputs": [
    {
     "name": "stdout",
     "output_type": "stream",
     "text": [
      "Part A Training Data\n",
      "<class 'pandas.core.frame.DataFrame'>\n",
      "RangeIndex: 6000 entries, 0 to 5999\n",
      "Columns: 129 entries, R1-PA1:VH to marker\n",
      "dtypes: float64(112), int64(17)\n",
      "memory usage: 5.9 MB\n",
      "\n",
      "Part A Testing Data\n",
      "<class 'pandas.core.frame.DataFrame'>\n",
      "RangeIndex: 100 entries, 0 to 99\n",
      "Columns: 128 entries, R1-PA1:VH to snort_log4\n",
      "dtypes: float64(112), int64(16)\n",
      "memory usage: 100.1 KB\n"
     ]
    }
   ],
   "source": [
    "trainDataBinary = pd.read_csv('data\\TrainingDataBinary.csv', sep=',')\n",
    "testDataBinary = pd.read_csv('data\\TestingDataBinary.csv', sep=',')\n",
    "\n",
    "# to check whether data was correctly loaded\n",
    "print(\"Part A Training Data\")\n",
    "trainDataBinary.info() \n",
    "print(\"\\nPart A Testing Data\")\n",
    "testDataBinary.info()"
   ]
  },
  {
   "cell_type": "markdown",
   "id": "cb8a1180",
   "metadata": {},
   "source": [
    "<h1>Part 3: Data Preprocessing</h1>\n",
    "\n",
    "The hold-out method was used to separate the labelled data instances into a training set and a test set. A 80-20 split was used instead of a 70-30 split. The 80-20 split gives a larger training set for the model, which can potentially improve classification performance.\n",
    "\n",
    "The provided training data has a balanced distribution of the two labels. Therefore, the training set and test set will also has the same distribution. "
   ]
  },
  {
   "cell_type": "code",
   "execution_count": 3,
   "id": "966447f2",
   "metadata": {},
   "outputs": [],
   "source": [
    "from sklearn.model_selection import train_test_split\n",
    "\n",
    "# getting the labels\n",
    "Y = trainDataBinary['marker']\n",
    "# removing the labels in the dataset\n",
    "X = trainDataBinary.drop('marker',axis=1)\n",
    "\n",
    "# splitting the training dataset into training set and test set\n",
    "# 80-20 split (larger training set to improve model performance)\n",
    "X_train, X_test, Y_train, Y_test = train_test_split(X, Y, test_size=0.2, random_state=58, stratify=Y)"
   ]
  },
  {
   "cell_type": "code",
   "execution_count": 4,
   "id": "1c5400ce",
   "metadata": {},
   "outputs": [
    {
     "data": {
      "text/plain": [
       "1    600\n",
       "0    600\n",
       "Name: marker, dtype: int64"
      ]
     },
     "execution_count": 4,
     "metadata": {},
     "output_type": "execute_result"
    }
   ],
   "source": [
    "# ensuring test set has 50-50 split of labels\n",
    "Y_test.value_counts()"
   ]
  },
  {
   "cell_type": "markdown",
   "id": "83888552",
   "metadata": {},
   "source": [
    "<h1>Part 4: Feature Selection</h1>\n",
    "\n",
    "None. Raw features were used to train the model."
   ]
  },
  {
   "cell_type": "markdown",
   "id": "000b877c",
   "metadata": {},
   "source": [
    "<h1>Part 5: Model Selection (Logistic Regression)</h1>"
   ]
  },
  {
   "cell_type": "code",
   "execution_count": 5,
   "id": "470e18d6",
   "metadata": {},
   "outputs": [],
   "source": [
    "from sklearn.linear_model import LogisticRegression\n",
    "clf = LogisticRegression(max_iter=10000, tol=0.1)"
   ]
  },
  {
   "cell_type": "markdown",
   "id": "dadb1580",
   "metadata": {},
   "source": [
    "<h1>Part 6: Hyperparameter Tuning</h1>\n",
    "\n",
    "Optimal value of the hyperparameter C was found using GridSearchCV in the range of 0 to 10000 (50 points on a log scale)."
   ]
  },
  {
   "cell_type": "code",
   "execution_count": 6,
   "id": "8bc78797",
   "metadata": {},
   "outputs": [
    {
     "name": "stdout",
     "output_type": "stream",
     "text": [
      "Fitting 5 folds for each of 50 candidates, totalling 250 fits\n",
      "Best parameter (CV score=0.877):\n",
      "{'C': 2222.996482526193}\n"
     ]
    }
   ],
   "source": [
    "from sklearn.model_selection import GridSearchCV\n",
    "\n",
    "param_grid = {\n",
    "    \"C\": np.logspace(0, 4, 50),\n",
    "}\n",
    "\n",
    "bestC = GridSearchCV(clf, param_grid, n_jobs=-1, cv=5, verbose=4)\n",
    "bestC.fit(X_train, Y_train)\n",
    "print(\"Best parameter (CV score=%0.3f):\" % bestC.best_score_)\n",
    "print(bestC.best_params_)"
   ]
  },
  {
   "cell_type": "code",
   "execution_count": 7,
   "id": "ec9c9d06",
   "metadata": {},
   "outputs": [
    {
     "name": "stdout",
     "output_type": "stream",
     "text": [
      "    mean_fit_time  std_fit_time  mean_score_time  std_score_time      param_C  \\\n",
      "0        5.175621      1.630070         0.005557        0.000848          1.0   \n",
      "1        4.363563      1.206809         0.005935        0.001272     1.206793   \n",
      "2        4.888219      2.478997         0.005197        0.000917     1.456348   \n",
      "3        4.987494      2.357312         0.006880        0.001373     1.757511   \n",
      "4        7.097072      3.392129         0.042486        0.075339     2.120951   \n",
      "5        5.388933      1.237935         0.062959        0.074574     2.559548   \n",
      "6        4.917252      2.423124         0.004654        0.000365     3.088844   \n",
      "7        4.995344      2.905687         0.004780        0.000118     3.727594   \n",
      "8        5.905221      2.497224         0.004273        0.000345     4.498433   \n",
      "9        7.107474      1.532171         0.004859        0.000568     5.428675   \n",
      "10       6.282137      2.546856         0.004887        0.000637     6.551286   \n",
      "11       5.721515      2.221075         0.004641        0.000267     7.906043   \n",
      "12       6.346182      1.077916         0.015827        0.023663     9.540955   \n",
      "13       5.014645      1.299756         0.005051        0.000406    11.513954   \n",
      "14       6.040641      2.921204         0.065830        0.106776    13.894955   \n",
      "15       4.702673      1.505001         0.004776        0.000335    16.768329   \n",
      "16       6.428916      3.175725         0.004943        0.000342    20.235896   \n",
      "17       6.130388      4.529287         0.004429        0.000305    24.420531   \n",
      "18       4.559347      0.422865         0.004625        0.000441    29.470517   \n",
      "19       8.651246      2.272040         0.035639        0.062024    35.564803   \n",
      "20       5.621751      3.258496         0.004316        0.000481    42.919343   \n",
      "21       6.690966      1.403010         0.004634        0.000381    51.794747   \n",
      "22       4.855546      1.351613         0.004505        0.000375    62.505519   \n",
      "23       4.351045      1.250880         0.004333        0.000691    75.431201   \n",
      "24       6.199871      1.484702         0.012901        0.011484    91.029818   \n",
      "25       6.200520      2.269364         0.006955        0.004114   109.854114   \n",
      "26       5.394092      2.213152         0.007395        0.004391   132.571137   \n",
      "27       8.112706      2.741918         0.004216        0.000529   159.985872   \n",
      "28       6.738190      2.467442         0.010813        0.012188   193.069773   \n",
      "29       7.458248      1.520115         0.004612        0.000353   232.995181   \n",
      "30       6.765453      2.482805         0.027842        0.047129    281.17687   \n",
      "31       4.982944      0.997337         0.004705        0.000662   339.322177   \n",
      "32       8.252975      3.499485         0.004363        0.000435   409.491506   \n",
      "33       6.157366      3.606407         0.004464        0.000440   494.171336   \n",
      "34       5.577475      1.821647         0.007770        0.006281   596.362332   \n",
      "35       6.540496      2.479310         0.048380        0.066073   719.685673   \n",
      "36       3.856591      2.164681         0.031787        0.055550   868.511374   \n",
      "37       6.807369      2.687678         0.004376        0.000462  1048.113134   \n",
      "38       6.486866      3.291561         0.009017        0.009022  1264.855217   \n",
      "39       5.510836      1.899400         0.039924        0.071007  1526.417967   \n",
      "40       5.938414      2.468510         0.023873        0.038911  1842.069969   \n",
      "41       8.733292      1.536521         0.013635        0.018061  2222.996483   \n",
      "42       5.953563      1.754149         0.007979        0.006257  2682.695795   \n",
      "43       6.649498      2.643698         0.004820        0.000163  3237.457543   \n",
      "44       4.304263      1.736505         0.006762        0.004828  3906.939937   \n",
      "45       5.545364      1.334910         0.049501        0.090691  4714.866363   \n",
      "46       4.354722      1.707077         0.042315        0.075737  5689.866029   \n",
      "47       4.174095      0.658791         0.004562        0.000453   6866.48845   \n",
      "48       4.759135      0.707124         0.007881        0.008054  8286.427729   \n",
      "49       4.019549      0.334670         0.004045        0.000657      10000.0   \n",
      "\n",
      "                       params  split0_test_score  split1_test_score  \\\n",
      "0                  {'C': 1.0}           0.867708           0.860417   \n",
      "1   {'C': 1.2067926406393286}           0.865625           0.863542   \n",
      "2   {'C': 1.4563484775012439}           0.867708           0.870833   \n",
      "3   {'C': 1.7575106248547918}           0.865625           0.854167   \n",
      "4    {'C': 2.120950887920191}           0.866667           0.865625   \n",
      "5   {'C': 2.5595479226995357}           0.867708           0.865625   \n",
      "6    {'C': 3.088843596477481}           0.867708           0.860417   \n",
      "7     {'C': 3.72759372031494}           0.867708           0.862500   \n",
      "8    {'C': 4.498432668969445}           0.866667           0.864583   \n",
      "9    {'C': 5.428675439323859}           0.866667           0.858333   \n",
      "10   {'C': 6.551285568595508}           0.864583           0.858333   \n",
      "11   {'C': 7.906043210907698}           0.865625           0.867708   \n",
      "12    {'C': 9.54095476349994}           0.864583           0.865625   \n",
      "13  {'C': 11.513953993264469}           0.865625           0.854167   \n",
      "14  {'C': 13.894954943731374}           0.867708           0.855208   \n",
      "15  {'C': 16.768329368110074}           0.866667           0.854167   \n",
      "16  {'C': 20.235896477251565}           0.867708           0.857292   \n",
      "17   {'C': 24.42053094548651}           0.864583           0.872917   \n",
      "18    {'C': 29.4705170255181}           0.864583           0.861458   \n",
      "19  {'C': 35.564803062231285}           0.864583           0.858333   \n",
      "20   {'C': 42.91934260128776}           0.868750           0.865625   \n",
      "21    {'C': 51.7947467923121}           0.867708           0.864583   \n",
      "22  {'C': 62.505519252739695}           0.867708           0.864583   \n",
      "23   {'C': 75.43120063354615}           0.863542           0.860417   \n",
      "24   {'C': 91.02981779915217}           0.868750           0.865625   \n",
      "25  {'C': 109.85411419875584}           0.867708           0.852083   \n",
      "26  {'C': 132.57113655901082}           0.864583           0.853125   \n",
      "27  {'C': 159.98587196060572}           0.863542           0.869792   \n",
      "28  {'C': 193.06977288832496}           0.868750           0.861458   \n",
      "29  {'C': 232.99518105153717}           0.866667           0.872917   \n",
      "30   {'C': 281.1768697974228}           0.865625           0.860417   \n",
      "31   {'C': 339.3221771895326}           0.869792           0.865625   \n",
      "32  {'C': 409.49150623804235}           0.865625           0.864583   \n",
      "33   {'C': 494.1713361323833}           0.866667           0.857292   \n",
      "34   {'C': 596.3623316594643}           0.864583           0.855208   \n",
      "35   {'C': 719.6856730011514}           0.866667           0.866667   \n",
      "36    {'C': 868.511373751352}           0.864583           0.866667   \n",
      "37  {'C': 1048.1131341546852}           0.871875           0.861458   \n",
      "38  {'C': 1264.8552168552958}           0.869792           0.854167   \n",
      "39  {'C': 1526.4179671752318}           0.867708           0.862500   \n",
      "40  {'C': 1842.0699693267145}           0.868750           0.865625   \n",
      "41   {'C': 2222.996482526193}           0.868750           0.867708   \n",
      "42  {'C': 2682.6957952797247}           0.865625           0.869792   \n",
      "43   {'C': 3237.457542817643}           0.867708           0.866667   \n",
      "44   {'C': 3906.939937054613}           0.865625           0.860417   \n",
      "45  {'C': 4714.8663634573895}           0.866667           0.860417   \n",
      "46   {'C': 5689.866029018293}           0.866667           0.860417   \n",
      "47   {'C': 6866.488450042998}           0.865625           0.857292   \n",
      "48   {'C': 8286.427728546843}           0.864583           0.859375   \n",
      "49             {'C': 10000.0}           0.866667           0.861458   \n",
      "\n",
      "    split2_test_score  split3_test_score  split4_test_score  mean_test_score  \\\n",
      "0            0.881250           0.889583           0.868750         0.873542   \n",
      "1            0.883333           0.888542           0.858333         0.871875   \n",
      "2            0.879167           0.888542           0.873958         0.876042   \n",
      "3            0.877083           0.891667           0.858333         0.869375   \n",
      "4            0.884375           0.894792           0.865625         0.875417   \n",
      "5            0.879167           0.888542           0.858333         0.871875   \n",
      "6            0.877083           0.888542           0.859375         0.870625   \n",
      "7            0.884375           0.887500           0.856250         0.871667   \n",
      "8            0.884375           0.884375           0.860417         0.872083   \n",
      "9            0.884375           0.888542           0.877083         0.875000   \n",
      "10           0.879167           0.888542           0.864583         0.871042   \n",
      "11           0.877083           0.885417           0.857292         0.870625   \n",
      "12           0.885417           0.892708           0.857292         0.873125   \n",
      "13           0.882292           0.889583           0.860417         0.870417   \n",
      "14           0.884375           0.897917           0.861458         0.873333   \n",
      "15           0.880208           0.887500           0.864583         0.870625   \n",
      "16           0.879167           0.888542           0.868750         0.872292   \n",
      "17           0.877083           0.882292           0.859375         0.871250   \n",
      "18           0.880208           0.892708           0.861458         0.872083   \n",
      "19           0.880208           0.893750           0.871875         0.873750   \n",
      "20           0.876042           0.889583           0.858333         0.871667   \n",
      "21           0.879167           0.892708           0.869792         0.874792   \n",
      "22           0.877083           0.890625           0.859375         0.871875   \n",
      "23           0.879167           0.885417           0.859375         0.869583   \n",
      "24           0.878125           0.886458           0.858333         0.871458   \n",
      "25           0.880208           0.889583           0.859375         0.869792   \n",
      "26           0.884375           0.889583           0.859375         0.870208   \n",
      "27           0.878125           0.901042           0.861458         0.874792   \n",
      "28           0.881250           0.898958           0.857292         0.873542   \n",
      "29           0.875000           0.892708           0.864583         0.874375   \n",
      "30           0.879167           0.903125           0.862500         0.874167   \n",
      "31           0.878125           0.883333           0.858333         0.871042   \n",
      "32           0.886458           0.888542           0.871875         0.875417   \n",
      "33           0.878125           0.889583           0.857292         0.869792   \n",
      "34           0.878125           0.888542           0.871875         0.871667   \n",
      "35           0.882292           0.885417           0.859375         0.872083   \n",
      "36           0.887500           0.885417           0.863542         0.873542   \n",
      "37           0.880208           0.888542           0.871875         0.874792   \n",
      "38           0.887500           0.893750           0.860417         0.873125   \n",
      "39           0.880208           0.889583           0.861458         0.872292   \n",
      "40           0.889583           0.884375           0.857292         0.873125   \n",
      "41           0.879167           0.898958           0.872917         0.877500   \n",
      "42           0.876042           0.886458           0.855208         0.870625   \n",
      "43           0.880208           0.884375           0.857292         0.871250   \n",
      "44           0.878125           0.888542           0.855208         0.869583   \n",
      "45           0.871875           0.887500           0.876042         0.872500   \n",
      "46           0.886458           0.887500           0.863542         0.872917   \n",
      "47           0.879167           0.887500           0.860417         0.870000   \n",
      "48           0.882292           0.897917           0.854167         0.871667   \n",
      "49           0.884375           0.893750           0.866667         0.874583   \n",
      "\n",
      "    std_test_score  rank_test_score  \n",
      "0         0.010450               13  \n",
      "1         0.011840               27  \n",
      "2         0.007307                2  \n",
      "3         0.013591               50  \n",
      "4         0.012033                3  \n",
      "5         0.010684               27  \n",
      "6         0.010973               39  \n",
      "7         0.012244               30  \n",
      "8         0.010236               24  \n",
      "9         0.011161                5  \n",
      "10        0.011110               37  \n",
      "11        0.009714               41  \n",
      "12        0.013524               17  \n",
      "13        0.013382               43  \n",
      "14        0.015668               16  \n",
      "15        0.011829               41  \n",
      "16        0.010676               22  \n",
      "17        0.008297               35  \n",
      "18        0.012437               24  \n",
      "19        0.012385               12  \n",
      "20        0.010611               30  \n",
      "21        0.010193                6  \n",
      "22        0.011004               27  \n",
      "23        0.010652               49  \n",
      "24        0.009829               34  \n",
      "25        0.013614               46  \n",
      "26        0.014261               44  \n",
      "27        0.014349                6  \n",
      "28        0.015089               15  \n",
      "29        0.009939               10  \n",
      "30        0.015885               11  \n",
      "31        0.008873               38  \n",
      "32        0.010198                3  \n",
      "33        0.012517               46  \n",
      "34        0.011380               30  \n",
      "35        0.010022               24  \n",
      "36        0.010615               13  \n",
      "37        0.009091                6  \n",
      "38        0.015258               17  \n",
      "39        0.010917               23  \n",
      "40        0.012029               17  \n",
      "41        0.011460                1  \n",
      "42        0.010425               39  \n",
      "43        0.009807               35  \n",
      "44        0.012155               48  \n",
      "45        0.009143               21  \n",
      "46        0.011656               20  \n",
      "47        0.011513               45  \n",
      "48        0.016183               30  \n",
      "49        0.012336                9  \n"
     ]
    }
   ],
   "source": [
    "results = pd.DataFrame(bestC.cv_results_)\n",
    "print(results)"
   ]
  },
  {
   "cell_type": "markdown",
   "id": "bd9ea070",
   "metadata": {},
   "source": [
    "<h1>Part 7: Final Evaluation on Test Set</h1>\n",
    "\n",
    "Positive case = Abnormal cases\n",
    "\n",
    "Negative case = Normal cases\n",
    "\n",
    "FP = Normal classified as Abnormal\n",
    "\n",
    "FN = Abnormal classified as Normal\n",
    "\n",
    "TP = Abnormal classified as Abnormal\n",
    "\n",
    "TN = Normal classified as Normal"
   ]
  },
  {
   "cell_type": "code",
   "execution_count": 8,
   "id": "d684868a",
   "metadata": {},
   "outputs": [],
   "source": [
    "from sklearn import metrics\n",
    "from matplotlib import pyplot as plt\n",
    "\n",
    "def eval(title, target, prediction):\n",
    "    TP = 0\n",
    "    FP = 0\n",
    "    TN = 0\n",
    "    FN = 0\n",
    "\n",
    "    for true, guess in zip(Y_test, Y_pred):\n",
    "        if(true == 1 and guess == 1):\n",
    "            TP = TP + 1\n",
    "        if(true == 0 and guess == 1):\n",
    "            FP = FP + 1\n",
    "        if(true == 0 and guess == 0):\n",
    "            TN = TN + 1\n",
    "        if(true == 1 and guess == 0):\n",
    "            FN = FN + 1\n",
    "    \n",
    "    precision = TP / (TP + FP)\n",
    "    recall = TP / (TP + FN)\n",
    "    manual_f1 = 2 * (precision * recall) / (precision + recall)\n",
    "    \n",
    "    acc = metrics.accuracy_score(target, prediction)\n",
    "    f1 = metrics.f1_score(target, prediction, pos_label=1)\n",
    "    \n",
    "    target_names = ['normal', 'abnormal']\n",
    "    cm = metrics.confusion_matrix(target, prediction)\n",
    "    cmplt = metrics.ConfusionMatrixDisplay(cm)\n",
    "    cmplt.plot()\n",
    "    plt.title(title)\n",
    "    plt.show()\n",
    "    \n",
    "    print(\"\\n\")\n",
    "    print(title)\n",
    "    print(\"\\n\")\n",
    "    print(\"TP: %d FP: %d TN: %d FN: %d\" % (TP, FP, TN, FN))\n",
    "    print(\"Accuracy: %0.3f\" % acc)\n",
    "    print(\"Built-in function F1: %0.3f\" % f1)\n",
    "    print(\"Manually calculated F1: %0.3f\" % manual_f1)\n",
    "    print(\"\\n\")\n",
    "    \n",
    "    print(metrics.classification_report(target, prediction, target_names=target_names))"
   ]
  },
  {
   "cell_type": "code",
   "execution_count": 9,
   "id": "19d02559",
   "metadata": {},
   "outputs": [
    {
     "name": "stdout",
     "output_type": "stream",
     "text": [
      "{'C': 2222.996482526193}\n"
     ]
    },
    {
     "data": {
      "image/png": "[encoded data removed]",
      "text/plain": [
       "<Figure size 640x480 with 2 Axes>"
      ]
     },
     "metadata": {},
     "output_type": "display_data"
    },
    {
     "name": "stdout",
     "output_type": "stream",
     "text": [
      "\n",
      "\n",
      "Logistic Regression (Best C)\n",
      "\n",
      "\n",
      "TP: 475 FP: 37 TN: 563 FN: 125\n",
      "Accuracy: 0.865\n",
      "Built-in function F1: 0.854\n",
      "Manually calculated F1: 0.854\n",
      "\n",
      "\n",
      "              precision    recall  f1-score   support\n",
      "\n",
      "      normal       0.82      0.94      0.87       600\n",
      "    abnormal       0.93      0.79      0.85       600\n",
      "\n",
      "    accuracy                           0.86      1200\n",
      "   macro avg       0.87      0.86      0.86      1200\n",
      "weighted avg       0.87      0.86      0.86      1200\n",
      "\n",
      "Final Accuracy:  0.865\n"
     ]
    }
   ],
   "source": [
    "print(bestC.best_params_)\n",
    "Y_pred = bestC.predict(X_test)\n",
    "eval(\"Logistic Regression (Best C)\", Y_test, Y_pred)\n",
    "accuracy = bestC.score(X_test, Y_test)\n",
    "print(\"Final Accuracy: \", accuracy)"
   ]
  },
  {
   "cell_type": "markdown",
   "id": "6f71e3ad",
   "metadata": {},
   "source": [
    "<h1>Part 8: Predicting Test Set</h1>"
   ]
  },
  {
   "cell_type": "code",
   "execution_count": 10,
   "id": "30a8bf0f",
   "metadata": {},
   "outputs": [],
   "source": [
    "Y_final = bestC.predict(testDataBinary)\n",
    "Y_final = pd.DataFrame(Y_final, columns=['Final Prediction'])"
   ]
  },
  {
   "cell_type": "code",
   "execution_count": 11,
   "id": "e0d2cb30",
   "metadata": {},
   "outputs": [
    {
     "data": {
      "text/plain": [
       "Final Prediction\n",
       "0                   52\n",
       "1                   48\n",
       "dtype: int64"
      ]
     },
     "execution_count": 11,
     "metadata": {},
     "output_type": "execute_result"
    }
   ],
   "source": [
    "Y_final.value_counts()"
   ]
  },
  {
   "cell_type": "markdown",
   "id": "c8581e5c",
   "metadata": {},
   "source": [
    "<h1>Part 9: Exporting to .csv File</h1>"
   ]
  },
  {
   "cell_type": "code",
   "execution_count": 12,
   "id": "1b449dd3",
   "metadata": {},
   "outputs": [],
   "source": [
    "Y_final.to_csv('results_csv/A2.csv', index=False)"
   ]
  },
  {
   "cell_type": "code",
   "execution_count": null,
   "id": "06c7972b",
   "metadata": {},
   "outputs": [],
   "source": []
  }
 ],
 "metadata": {
  "kernelspec": {
   "display_name": "Python 3 (ipykernel)",
   "language": "python",
   "name": "python3"
  },
  "language_info": {
   "codemirror_mode": {
    "name": "ipython",
    "version": 3
   },
   "file_extension": ".py",
   "mimetype": "text/x-python",
   "name": "python",
   "nbconvert_exporter": "python",
   "pygments_lexer": "ipython3",
   "version": "3.10.8"
  }
 },
 "nbformat": 4,
 "nbformat_minor": 5
}
