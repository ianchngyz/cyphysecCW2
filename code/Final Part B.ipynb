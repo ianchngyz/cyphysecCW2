{
 "cells": [
  {
   "cell_type": "markdown",
   "id": "2ed97edb",
   "metadata": {},
   "source": [
    "<h1>Part 1: Importing Libraries</h1>"
   ]
  },
  {
   "cell_type": "code",
   "execution_count": 1,
   "id": "1aa388ae",
   "metadata": {},
   "outputs": [],
   "source": [
    "import pandas as pd\n",
    "import numpy as np\n",
    "%matplotlib inline\n",
    "import matplotlib.pyplot as plt\n",
    "import imblearn"
   ]
  },
  {
   "cell_type": "markdown",
   "id": "013d3dfb",
   "metadata": {},
   "source": [
    "<h1>Part 2: Data Exploration</h1>"
   ]
  },
  {
   "cell_type": "code",
   "execution_count": 2,
   "id": "8d490e57",
   "metadata": {},
   "outputs": [
    {
     "name": "stdout",
     "output_type": "stream",
     "text": [
      "Part B Training Data\n",
      "<class 'pandas.core.frame.DataFrame'>\n",
      "RangeIndex: 6000 entries, 0 to 5999\n",
      "Columns: 129 entries, R1-PA1:VH to marker\n",
      "dtypes: float64(112), int64(17)\n",
      "memory usage: 5.9 MB\n",
      "\n",
      "Part B Testing Data\n",
      "<class 'pandas.core.frame.DataFrame'>\n",
      "RangeIndex: 100 entries, 0 to 99\n",
      "Columns: 128 entries, R1-PA1:VH to snort_log4\n",
      "dtypes: float64(104), int64(24)\n",
      "memory usage: 100.1 KB\n"
     ]
    }
   ],
   "source": [
    "trainDataMulti = pd.read_csv('data\\TrainingDataMulti.csv', sep=',')\n",
    "testDataMulti = pd.read_csv('data\\TestingDataMulti.csv', sep=',')\n",
    "\n",
    "# to check whether data was correctly loaded\n",
    "print(\"Part B Training Data\")\n",
    "trainDataMulti.info() \n",
    "print(\"\\nPart B Testing Data\")\n",
    "testDataMulti.info()"
   ]
  },
  {
   "cell_type": "markdown",
   "id": "cac96fc2",
   "metadata": {},
   "source": [
    "Detecting invalid data and missing values within the dataset."
   ]
  },
  {
   "cell_type": "code",
   "execution_count": 3,
   "id": "b9665e93",
   "metadata": {},
   "outputs": [
    {
     "name": "stdout",
     "output_type": "stream",
     "text": [
      "No NaN values were detected.\n",
      "No N/A values were detected\n"
     ]
    }
   ],
   "source": [
    "na_detected = False\n",
    "NaN_detected = False\n",
    "\n",
    "for i in range(128):\n",
    "    na_count = trainDataMulti.isna().values.any()\n",
    "    NaN_count = trainDataMulti.isnull().values.any()\n",
    "    if NaN_count != 0:\n",
    "        #print('Column' + i + 'has' + NaN_count + 'NaN values.\\n')\n",
    "        NaN_detected = True\n",
    "    if na_count != 0:\n",
    "        na_detected = True\n",
    "\n",
    "if NaN_detected == False:\n",
    "    print('No NaN values were detected.')\n",
    "    \n",
    "if na_detected == False:\n",
    "    print('No N/A values were detected')"
   ]
  },
  {
   "cell_type": "markdown",
   "id": "0f8da38f",
   "metadata": {},
   "source": [
    "Verifying event label distribution"
   ]
  },
  {
   "cell_type": "code",
   "execution_count": 4,
   "id": "87650e50",
   "metadata": {},
   "outputs": [
    {
     "data": {
      "image/png": "[encoded data removed]",
      "text/plain": [
       "<Figure size 640x480 with 1 Axes>"
      ]
     },
     "metadata": {},
     "output_type": "display_data"
    }
   ],
   "source": [
    "labelplt = trainDataMulti['marker'].value_counts().sort_values().plot(kind='bar', title='Number of Event Labels in Training Data', xlabel='Type of Event')\n",
    "labelplt.bar_label(labelplt.containers[0], label_type = 'center')\n",
    "plt.show()"
   ]
  },
  {
   "cell_type": "markdown",
   "id": "ee1c9af0",
   "metadata": {},
   "source": [
    "<h1>Part 3: Data Preprocessing</h1>"
   ]
  },
  {
   "cell_type": "code",
   "execution_count": 5,
   "id": "ddf85035",
   "metadata": {},
   "outputs": [],
   "source": [
    "from sklearn.model_selection import train_test_split\n",
    "\n",
    "# getting the labels\n",
    "Y = trainDataMulti['marker']\n",
    "# removing the labels in the dataset\n",
    "X = trainDataMulti.drop('marker',axis=1)"
   ]
  },
  {
   "cell_type": "code",
   "execution_count": 6,
   "id": "4e17324d",
   "metadata": {},
   "outputs": [],
   "source": [
    "from imblearn.over_sampling import SMOTE\n",
    "\n",
    "sampler = SMOTE(random_state=58)\n",
    "X, Y = sampler.fit_resample(X, Y)"
   ]
  },
  {
   "cell_type": "code",
   "execution_count": 7,
   "id": "49794c3a",
   "metadata": {},
   "outputs": [
    {
     "data": {
      "text/plain": [
       "0    3000\n",
       "2    3000\n",
       "1    3000\n",
       "Name: marker, dtype: int64"
      ]
     },
     "execution_count": 7,
     "metadata": {},
     "output_type": "execute_result"
    }
   ],
   "source": [
    "# ensuring resampled dataset using SMOTE has balanced label distribution\n",
    "Y.value_counts()"
   ]
  },
  {
   "cell_type": "code",
   "execution_count": 8,
   "id": "a43e2a9d",
   "metadata": {},
   "outputs": [],
   "source": [
    "# splitting the training dataset into training set and test set\n",
    "# 80-20 split (larger training set to improve model performance)\n",
    "X_train, X_test, Y_train, Y_test = train_test_split(X, Y, test_size=0.2, random_state=58, stratify=Y)"
   ]
  },
  {
   "cell_type": "code",
   "execution_count": 9,
   "id": "9cb55ca7",
   "metadata": {},
   "outputs": [
    {
     "data": {
      "text/plain": [
       "1    600\n",
       "0    600\n",
       "2    600\n",
       "Name: marker, dtype: int64"
      ]
     },
     "execution_count": 9,
     "metadata": {},
     "output_type": "execute_result"
    }
   ],
   "source": [
    "# ensuring test set has balanced split of labels\n",
    "Y_test.value_counts()"
   ]
  },
  {
   "cell_type": "markdown",
   "id": "d28fd2dc",
   "metadata": {},
   "source": [
    "Standardizing all features using StandardScaler"
   ]
  },
  {
   "cell_type": "code",
   "execution_count": 10,
   "id": "ef5a76ac",
   "metadata": {},
   "outputs": [],
   "source": [
    "from sklearn.preprocessing import StandardScaler\n",
    "\n",
    "scaler = StandardScaler()\n",
    "X_train = scaler.fit_transform(X_train)\n",
    "X_test = scaler.transform(X_test)\n",
    "testDataMulti = scaler.transform(testDataMulti)"
   ]
  },
  {
   "cell_type": "markdown",
   "id": "1dcae727",
   "metadata": {},
   "source": [
    "<h1>Part 4: Feature Selection</h1>\n",
    "\n",
    "None. Raw features were used to train the model."
   ]
  },
  {
   "cell_type": "markdown",
   "id": "31fbcfad",
   "metadata": {},
   "source": [
    "<h1>Part 5: Model Selection</h1>"
   ]
  },
  {
   "cell_type": "code",
   "execution_count": 11,
   "id": "aa40f076",
   "metadata": {},
   "outputs": [],
   "source": [
    "from sklearn.ensemble import RandomForestClassifier\n",
    "\n",
    "clf = RandomForestClassifier(max_depth=8, min_samples_split = 5, n_jobs=-1, random_state=58)"
   ]
  },
  {
   "cell_type": "markdown",
   "id": "95fbc104",
   "metadata": {},
   "source": [
    "<h1>Part 6: Hyperparameter Tuning</h1>"
   ]
  },
  {
   "cell_type": "code",
   "execution_count": 12,
   "id": "93941fcd",
   "metadata": {},
   "outputs": [
    {
     "name": "stdout",
     "output_type": "stream",
     "text": [
      "Fitting 5 folds for each of 25 candidates, totalling 125 fits\n",
      "Best parameter (CV score=0.913):\n",
      "{'max_depth': 10, 'min_samples_split': 3}\n"
     ]
    }
   ],
   "source": [
    "from sklearn.model_selection import GridSearchCV\n",
    "\n",
    "param_grid = {\n",
    "    \"min_samples_split\": [2, 3, 4, 5, 6],\n",
    "    \"max_depth\": [6, 7, 8, 9, 10],\n",
    "}\n",
    "\n",
    "bestclf = GridSearchCV(clf, param_grid, n_jobs=-1, cv=5, verbose=4)\n",
    "bestclf.fit(X_train, Y_train)\n",
    "print(\"Best parameter (CV score=%0.3f):\" % bestclf.best_score_)\n",
    "print(bestclf.best_params_)"
   ]
  },
  {
   "cell_type": "code",
   "execution_count": 13,
   "id": "b533a5fb",
   "metadata": {},
   "outputs": [
    {
     "name": "stdout",
     "output_type": "stream",
     "text": [
      "    mean_fit_time  std_fit_time  mean_score_time  std_score_time  \\\n",
      "0        2.405690      2.167024         4.665624        3.738805   \n",
      "1        8.128058      1.374803         5.555260        0.819742   \n",
      "2        5.516866      2.252803         5.532995        0.705523   \n",
      "3       10.064894      2.700587         9.071613        2.947191   \n",
      "4       11.341731      2.068991        10.405923        2.778626   \n",
      "5       15.557156      4.132125         8.424606        1.241353   \n",
      "6       19.629242      2.368595         7.399294        1.999133   \n",
      "7       17.328282      2.101263         8.544009        1.386081   \n",
      "8       14.526347      2.469571         9.611180        1.638890   \n",
      "9       15.454391      1.760632        10.609114        3.313246   \n",
      "10      18.040559      4.933905        10.951586        1.240587   \n",
      "11      17.353580      1.578911         8.346872        1.888310   \n",
      "12      18.453098      3.769750         8.672022        3.141112   \n",
      "13      17.624199      2.180250         7.327089        1.814728   \n",
      "14      19.756741      6.085016        14.025342        4.154288   \n",
      "15      19.138113      2.084705        10.642054        0.993324   \n",
      "16      16.442733      2.594025         9.128973        2.329768   \n",
      "17      16.876378      1.918747        11.038706        1.032470   \n",
      "18      16.515540      1.436090        11.875217        1.220834   \n",
      "19      18.039871      4.615073         9.678670        1.661148   \n",
      "20      23.551902      5.137298         9.075162        3.074720   \n",
      "21      21.353623      5.715858        12.436676        3.543976   \n",
      "22      19.570757      5.378524         8.203683        3.638497   \n",
      "23      20.562616      2.645656         6.339142        0.610564   \n",
      "24      14.916546      3.157647         1.948645        1.131531   \n",
      "\n",
      "   param_max_depth param_min_samples_split  \\\n",
      "0                6                       2   \n",
      "1                6                       3   \n",
      "2                6                       4   \n",
      "3                6                       5   \n",
      "4                6                       6   \n",
      "5                7                       2   \n",
      "6                7                       3   \n",
      "7                7                       4   \n",
      "8                7                       5   \n",
      "9                7                       6   \n",
      "10               8                       2   \n",
      "11               8                       3   \n",
      "12               8                       4   \n",
      "13               8                       5   \n",
      "14               8                       6   \n",
      "15               9                       2   \n",
      "16               9                       3   \n",
      "17               9                       4   \n",
      "18               9                       5   \n",
      "19               9                       6   \n",
      "20              10                       2   \n",
      "21              10                       3   \n",
      "22              10                       4   \n",
      "23              10                       5   \n",
      "24              10                       6   \n",
      "\n",
      "                                       params  split0_test_score  \\\n",
      "0    {'max_depth': 6, 'min_samples_split': 2}           0.756250   \n",
      "1    {'max_depth': 6, 'min_samples_split': 3}           0.759028   \n",
      "2    {'max_depth': 6, 'min_samples_split': 4}           0.765278   \n",
      "3    {'max_depth': 6, 'min_samples_split': 5}           0.760417   \n",
      "4    {'max_depth': 6, 'min_samples_split': 6}           0.765278   \n",
      "5    {'max_depth': 7, 'min_samples_split': 2}           0.817361   \n",
      "6    {'max_depth': 7, 'min_samples_split': 3}           0.821528   \n",
      "7    {'max_depth': 7, 'min_samples_split': 4}           0.822222   \n",
      "8    {'max_depth': 7, 'min_samples_split': 5}           0.812500   \n",
      "9    {'max_depth': 7, 'min_samples_split': 6}           0.815278   \n",
      "10   {'max_depth': 8, 'min_samples_split': 2}           0.859722   \n",
      "11   {'max_depth': 8, 'min_samples_split': 3}           0.860417   \n",
      "12   {'max_depth': 8, 'min_samples_split': 4}           0.855556   \n",
      "13   {'max_depth': 8, 'min_samples_split': 5}           0.854167   \n",
      "14   {'max_depth': 8, 'min_samples_split': 6}           0.847222   \n",
      "15   {'max_depth': 9, 'min_samples_split': 2}           0.890972   \n",
      "16   {'max_depth': 9, 'min_samples_split': 3}           0.888889   \n",
      "17   {'max_depth': 9, 'min_samples_split': 4}           0.885417   \n",
      "18   {'max_depth': 9, 'min_samples_split': 5}           0.886806   \n",
      "19   {'max_depth': 9, 'min_samples_split': 6}           0.897222   \n",
      "20  {'max_depth': 10, 'min_samples_split': 2}           0.915972   \n",
      "21  {'max_depth': 10, 'min_samples_split': 3}           0.918056   \n",
      "22  {'max_depth': 10, 'min_samples_split': 4}           0.911806   \n",
      "23  {'max_depth': 10, 'min_samples_split': 5}           0.912500   \n",
      "24  {'max_depth': 10, 'min_samples_split': 6}           0.910417   \n",
      "\n",
      "    split1_test_score  split2_test_score  split3_test_score  \\\n",
      "0            0.761111           0.788194           0.788194   \n",
      "1            0.760417           0.792361           0.792361   \n",
      "2            0.761806           0.790972           0.793056   \n",
      "3            0.767361           0.795833           0.793750   \n",
      "4            0.768056           0.779861           0.793750   \n",
      "5            0.825694           0.830556           0.820833   \n",
      "6            0.827083           0.832639           0.821528   \n",
      "7            0.824306           0.830556           0.824306   \n",
      "8            0.826389           0.832639           0.822222   \n",
      "9            0.820833           0.834722           0.818750   \n",
      "10           0.850000           0.859722           0.857639   \n",
      "11           0.854167           0.858333           0.859028   \n",
      "12           0.852778           0.868750           0.865278   \n",
      "13           0.850000           0.864583           0.861111   \n",
      "14           0.848611           0.868056           0.856250   \n",
      "15           0.874306           0.895139           0.893750   \n",
      "16           0.877778           0.899306           0.895139   \n",
      "17           0.881250           0.895139           0.897222   \n",
      "18           0.876389           0.893056           0.895139   \n",
      "19           0.878472           0.888194           0.890278   \n",
      "20           0.909028           0.913194           0.910417   \n",
      "21           0.904861           0.918750           0.913889   \n",
      "22           0.906250           0.922222           0.913889   \n",
      "23           0.902083           0.920833           0.914583   \n",
      "24           0.904167           0.916667           0.908333   \n",
      "\n",
      "    split4_test_score  mean_test_score  std_test_score  rank_test_score  \n",
      "0            0.775000         0.773750        0.013303               25  \n",
      "1            0.781250         0.777083        0.014751               24  \n",
      "2            0.783333         0.778889        0.012989               22  \n",
      "3            0.777778         0.779028        0.014023               21  \n",
      "4            0.779167         0.777222        0.010106               23  \n",
      "5            0.817361         0.822361        0.005111               19  \n",
      "6            0.816667         0.823889        0.005479               16  \n",
      "7            0.816667         0.823611        0.004457               17  \n",
      "8            0.822222         0.823194        0.006568               18  \n",
      "9            0.818750         0.821667        0.006767               20  \n",
      "10           0.852778         0.855972        0.003919               14  \n",
      "11           0.858333         0.858056        0.002088               12  \n",
      "12           0.850000         0.858472        0.007275               11  \n",
      "13           0.856944         0.857361        0.005114               13  \n",
      "14           0.848611         0.853750        0.007827               15  \n",
      "15           0.880556         0.886944        0.008127               10  \n",
      "16           0.881944         0.888611        0.007986                6  \n",
      "17           0.884028         0.888611        0.006359                6  \n",
      "18           0.888889         0.888056        0.006535                8  \n",
      "19           0.881944         0.887222        0.006553                9  \n",
      "20           0.906250         0.910972        0.003356                3  \n",
      "21           0.909722         0.913056        0.005223                1  \n",
      "22           0.905556         0.911944        0.006044                2  \n",
      "23           0.902778         0.910556        0.007182                4  \n",
      "24           0.903472         0.908611        0.004783                5  \n"
     ]
    }
   ],
   "source": [
    "results = pd.DataFrame(bestclf.cv_results_)\n",
    "print(results)"
   ]
  },
  {
   "cell_type": "markdown",
   "id": "55b3e122",
   "metadata": {},
   "source": [
    "<h1>Part 7: Final Evaluation on Test Set</h1>"
   ]
  },
  {
   "cell_type": "code",
   "execution_count": 14,
   "id": "f7fd8257",
   "metadata": {},
   "outputs": [
    {
     "name": "stdout",
     "output_type": "stream",
     "text": [
      "                   precision    recall  f1-score   support\n",
      "\n",
      "           normal       0.90      0.95      0.92       600\n",
      "   data_injection       0.94      0.89      0.91       600\n",
      "command_injection       0.90      0.90      0.90       600\n",
      "\n",
      "         accuracy                           0.91      1800\n",
      "        macro avg       0.91      0.91      0.91      1800\n",
      "     weighted avg       0.91      0.91      0.91      1800\n",
      "\n",
      "Final Accuracy:  0.9122222222222223\n"
     ]
    },
    {
     "data": {
      "image/png": "[encoded data removed]",
      "text/plain": [
       "<Figure size 640x480 with 2 Axes>"
      ]
     },
     "metadata": {},
     "output_type": "display_data"
    }
   ],
   "source": [
    "from sklearn import metrics\n",
    "Y_pred = bestclf.predict(X_test)\n",
    "target_names = ['normal', 'data_injection', 'command_injection']\n",
    "print(metrics.classification_report(Y_test, Y_pred, target_names=target_names))\n",
    "\n",
    "accuracy = bestclf.score(X_test, Y_test)\n",
    "print(\"Final Accuracy: \", accuracy)\n",
    "\n",
    "cm = metrics.confusion_matrix(Y_test, Y_pred)\n",
    "cmplt = metrics.ConfusionMatrixDisplay(cm, display_labels={\"2\",\"1\",\"0\"})\n",
    "cmplt.plot()\n",
    "\n",
    "plt.title(\"Multiclass Classification\")\n",
    "plt.show()"
   ]
  },
  {
   "cell_type": "markdown",
   "id": "2a165b22",
   "metadata": {},
   "source": [
    "<h1>Part 8: Predicting Test Set</h1>"
   ]
  },
  {
   "cell_type": "code",
   "execution_count": 15,
   "id": "1f365634",
   "metadata": {},
   "outputs": [],
   "source": [
    "Y_final = bestclf.predict(testDataMulti)\n",
    "Y_final = pd.DataFrame(Y_final, columns=['Final Prediction'])"
   ]
  },
  {
   "cell_type": "code",
   "execution_count": 16,
   "id": "ea222d64",
   "metadata": {},
   "outputs": [
    {
     "data": {
      "text/plain": [
       "Final Prediction\n",
       "1                   35\n",
       "0                   33\n",
       "2                   32\n",
       "dtype: int64"
      ]
     },
     "execution_count": 16,
     "metadata": {},
     "output_type": "execute_result"
    }
   ],
   "source": [
    "Y_final.value_counts()"
   ]
  },
  {
   "cell_type": "markdown",
   "id": "0e2484dd",
   "metadata": {},
   "source": [
    "<h1>Part 9: Exporting to .csv File</h1>"
   ]
  },
  {
   "cell_type": "code",
   "execution_count": 17,
   "id": "28ca625a",
   "metadata": {},
   "outputs": [],
   "source": [
    "Y_final.to_csv('results_csv/B-Final.csv', index=False)"
   ]
  },
  {
   "cell_type": "code",
   "execution_count": null,
   "id": "fd8061ec",
   "metadata": {},
   "outputs": [],
   "source": []
  }
 ],
 "metadata": {
  "kernelspec": {
   "display_name": "Python 3 (ipykernel)",
   "language": "python",
   "name": "python3"
  },
  "language_info": {
   "codemirror_mode": {
    "name": "ipython",
    "version": 3
   },
   "file_extension": ".py",
   "mimetype": "text/x-python",
   "name": "python",
   "nbconvert_exporter": "python",
   "pygments_lexer": "ipython3",
   "version": "3.10.8"
  }
 },
 "nbformat": 4,
 "nbformat_minor": 5
}
