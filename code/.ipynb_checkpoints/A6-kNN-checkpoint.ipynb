{
 "cells": [
  {
   "cell_type": "markdown",
   "id": "069f9a3c",
   "metadata": {},
   "source": [
    "<h1>Part 1: Importing Libraries</h1>"
   ]
  },
  {
   "cell_type": "code",
   "execution_count": 1,
   "id": "e417a78e",
   "metadata": {},
   "outputs": [],
   "source": [
    "import pandas as pd\n",
    "import numpy as np"
   ]
  },
  {
   "cell_type": "markdown",
   "id": "2bf14769",
   "metadata": {},
   "source": [
    "<h1>Part 2: Loading Datasets</h1>"
   ]
  },
  {
   "cell_type": "code",
   "execution_count": 2,
   "id": "1e845f16",
   "metadata": {},
   "outputs": [
    {
     "name": "stdout",
     "output_type": "stream",
     "text": [
      "Part A Training Data\n",
      "<class 'pandas.core.frame.DataFrame'>\n",
      "RangeIndex: 6000 entries, 0 to 5999\n",
      "Columns: 129 entries, R1-PA1:VH to marker\n",
      "dtypes: float64(112), int64(17)\n",
      "memory usage: 5.9 MB\n",
      "\n",
      "Part A Testing Data\n",
      "<class 'pandas.core.frame.DataFrame'>\n",
      "RangeIndex: 100 entries, 0 to 99\n",
      "Columns: 128 entries, R1-PA1:VH to snort_log4\n",
      "dtypes: float64(112), int64(16)\n",
      "memory usage: 100.1 KB\n"
     ]
    }
   ],
   "source": [
    "trainDataBinary = pd.read_csv('data\\TrainingDataBinary.csv', sep=',')\n",
    "testDataBinary = pd.read_csv('data\\TestingDataBinary.csv', sep=',')\n",
    "\n",
    "# to check whether data was correctly loaded\n",
    "print(\"Part A Training Data\")\n",
    "trainDataBinary.info() \n",
    "print(\"\\nPart A Testing Data\")\n",
    "testDataBinary.info()"
   ]
  },
  {
   "cell_type": "markdown",
   "id": "cb8a1180",
   "metadata": {},
   "source": [
    "<h1>Part 3: Data Preprocessing</h1>\n",
    "\n",
    "The hold-out method was used to separate the labelled data instances into a training set and a test set. A 80-20 split was used instead of a 70-30 split. The 80-20 split gives a larger training set for the model, which can potentially improve classification performance.\n",
    "\n",
    "The provided training data has a balanced distribution of the two labels. Therefore, the training set and test set will also has the same distribution. "
   ]
  },
  {
   "cell_type": "code",
   "execution_count": 3,
   "id": "966447f2",
   "metadata": {},
   "outputs": [],
   "source": [
    "from sklearn.model_selection import train_test_split\n",
    "\n",
    "# getting the labels\n",
    "Y = trainDataBinary['marker']\n",
    "# removing the labels in the dataset\n",
    "X = trainDataBinary.drop('marker',axis=1)\n",
    "\n",
    "# splitting the training dataset into training set and test set\n",
    "# 80-20 split (larger training set to improve model performance)\n",
    "X_train, X_test, Y_train, Y_test = train_test_split(X, Y, test_size=0.2, random_state=58, stratify=Y)"
   ]
  },
  {
   "cell_type": "code",
   "execution_count": 4,
   "id": "1c5400ce",
   "metadata": {},
   "outputs": [
    {
     "data": {
      "text/plain": [
       "1    600\n",
       "0    600\n",
       "Name: marker, dtype: int64"
      ]
     },
     "execution_count": 4,
     "metadata": {},
     "output_type": "execute_result"
    }
   ],
   "source": [
    "# ensuring test set has 50-50 split of labels\n",
    "Y_test.value_counts()"
   ]
  },
  {
   "cell_type": "markdown",
   "id": "83888552",
   "metadata": {},
   "source": [
    "<h1>Part 4: Feature Selection</h1>\n",
    "\n",
    "None. Raw features were used to train the model."
   ]
  },
  {
   "cell_type": "markdown",
   "id": "000b877c",
   "metadata": {},
   "source": [
    "<h1>Part 5: Model Selection (K-Nearest Neighbours Classifier)</h1>"
   ]
  },
  {
   "cell_type": "code",
   "execution_count": 5,
   "id": "470e18d6",
   "metadata": {},
   "outputs": [],
   "source": [
    "from sklearn.neighbors import KNeighborsClassifier\n",
    "clf = KNeighborsClassifier(n_jobs=-1)"
   ]
  },
  {
   "cell_type": "markdown",
   "id": "dadb1580",
   "metadata": {},
   "source": [
    "<h1>Part 6: Hyperparameter Tuning</h1>\n",
    "\n",
    "Optimal value of the hyperparameter C was found using GridSearchCV in the range of 0 to 10000 (50 points on a log scale)."
   ]
  },
  {
   "cell_type": "code",
   "execution_count": 6,
   "id": "8bc78797",
   "metadata": {},
   "outputs": [
    {
     "name": "stdout",
     "output_type": "stream",
     "text": [
      "Fitting 5 folds for each of 50 candidates, totalling 250 fits\n",
      "Best parameter (CV score=0.941):\n",
      "{'n_neighbors': 1}\n"
     ]
    }
   ],
   "source": [
    "from sklearn.model_selection import GridSearchCV\n",
    "\n",
    "param_grid = {\n",
    "    \"n_neighbors\": np.arange(1,51),\n",
    "}\n",
    "\n",
    "bestK = GridSearchCV(clf, param_grid, n_jobs=-1, cv=5, verbose=4)\n",
    "bestK.fit(X_train, Y_train)\n",
    "print(\"Best parameter (CV score=%0.3f):\" % bestK.best_score_)\n",
    "print(bestK.best_params_)"
   ]
  },
  {
   "cell_type": "code",
   "execution_count": 7,
   "id": "ec9c9d06",
   "metadata": {},
   "outputs": [
    {
     "name": "stdout",
     "output_type": "stream",
     "text": [
      "    mean_fit_time  std_fit_time  mean_score_time  std_score_time  \\\n",
      "0        0.018364      0.002392         0.191181        0.019110   \n",
      "1        0.018356      0.002100         0.188562        0.016414   \n",
      "2        0.019171      0.001137         0.173904        0.009423   \n",
      "3        0.014854      0.002253         0.172566        0.021444   \n",
      "4        0.013273      0.002474         0.094551        0.022078   \n",
      "5        0.012342      0.001696         0.090593        0.023595   \n",
      "6        0.013857      0.001229         0.104458        0.008948   \n",
      "7        0.013342      0.000521         0.086475        0.004996   \n",
      "8        0.014149      0.000376         0.100451        0.021443   \n",
      "9        0.016340      0.003716         0.100123        0.023687   \n",
      "10       0.010327      0.002006         0.101497        0.014968   \n",
      "11       0.011782      0.001456         0.089112        0.018367   \n",
      "12       0.011330      0.001434         0.095128        0.018549   \n",
      "13       0.012130      0.000592         0.100642        0.015191   \n",
      "14       0.011127      0.000811         0.099357        0.018870   \n",
      "15       0.011029      0.000903         0.082214        0.004593   \n",
      "16       0.011128      0.001073         0.088240        0.012629   \n",
      "17       0.012636      0.001573         0.105601        0.017916   \n",
      "18       0.011624      0.001627         0.089964        0.019873   \n",
      "19       0.010446      0.000990         0.089943        0.018372   \n",
      "20       0.011018      0.001191         0.098445        0.019436   \n",
      "21       0.010731      0.001576         0.100445        0.011975   \n",
      "22       0.010135      0.000588         0.111866        0.011612   \n",
      "23       0.011029      0.001007         0.083085        0.002987   \n",
      "24       0.011026      0.001191         0.097879        0.019185   \n",
      "25       0.010518      0.001266         0.107410        0.022632   \n",
      "26       0.010534      0.000633         0.086367        0.004244   \n",
      "27       0.010333      0.000402         0.105540        0.019849   \n",
      "28       0.009927      0.001450         0.108264        0.005400   \n",
      "29       0.010541      0.000907         0.100848        0.019007   \n",
      "30       0.010733      0.000767         0.090199        0.009777   \n",
      "31       0.010927      0.001033         0.107518        0.024039   \n",
      "32       0.010542      0.000845         0.088915        0.007736   \n",
      "33       0.011362      0.000533         0.108531        0.016173   \n",
      "34       0.010702      0.000688         0.090966        0.017722   \n",
      "35       0.011028      0.001106         0.097118        0.017412   \n",
      "36       0.010223      0.001400         0.101823        0.019962   \n",
      "37       0.011508      0.001039         0.092747        0.012213   \n",
      "38       0.011132      0.001208         0.088224        0.009536   \n",
      "39       0.011230      0.000400         0.104573        0.008469   \n",
      "40       0.011521      0.000900         0.107621        0.020692   \n",
      "41       0.011427      0.001692         0.093950        0.009404   \n",
      "42       0.011831      0.000876         0.102692        0.019396   \n",
      "43       0.011150      0.001232         0.098316        0.006790   \n",
      "44       0.010975      0.002967         0.122890        0.016576   \n",
      "45       0.011926      0.001025         0.095485        0.008988   \n",
      "46       0.011132      0.000803         0.096817        0.010535   \n",
      "47       0.011739      0.001173         0.095610        0.014576   \n",
      "48       0.011140      0.000810         0.088251        0.011758   \n",
      "49       0.010692      0.001501         0.080941        0.008254   \n",
      "\n",
      "   param_n_neighbors               params  split0_test_score  \\\n",
      "0                  1   {'n_neighbors': 1}           0.947917   \n",
      "1                  2   {'n_neighbors': 2}           0.916667   \n",
      "2                  3   {'n_neighbors': 3}           0.916667   \n",
      "3                  4   {'n_neighbors': 4}           0.896875   \n",
      "4                  5   {'n_neighbors': 5}           0.897917   \n",
      "5                  6   {'n_neighbors': 6}           0.877083   \n",
      "6                  7   {'n_neighbors': 7}           0.884375   \n",
      "7                  8   {'n_neighbors': 8}           0.863542   \n",
      "8                  9   {'n_neighbors': 9}           0.868750   \n",
      "9                 10  {'n_neighbors': 10}           0.855208   \n",
      "10                11  {'n_neighbors': 11}           0.854167   \n",
      "11                12  {'n_neighbors': 12}           0.841667   \n",
      "12                13  {'n_neighbors': 13}           0.848958   \n",
      "13                14  {'n_neighbors': 14}           0.831250   \n",
      "14                15  {'n_neighbors': 15}           0.831250   \n",
      "15                16  {'n_neighbors': 16}           0.828125   \n",
      "16                17  {'n_neighbors': 17}           0.829167   \n",
      "17                18  {'n_neighbors': 18}           0.823958   \n",
      "18                19  {'n_neighbors': 19}           0.821875   \n",
      "19                20  {'n_neighbors': 20}           0.816667   \n",
      "20                21  {'n_neighbors': 21}           0.820833   \n",
      "21                22  {'n_neighbors': 22}           0.809375   \n",
      "22                23  {'n_neighbors': 23}           0.812500   \n",
      "23                24  {'n_neighbors': 24}           0.803125   \n",
      "24                25  {'n_neighbors': 25}           0.809375   \n",
      "25                26  {'n_neighbors': 26}           0.804167   \n",
      "26                27  {'n_neighbors': 27}           0.805208   \n",
      "27                28  {'n_neighbors': 28}           0.798958   \n",
      "28                29  {'n_neighbors': 29}           0.802083   \n",
      "29                30  {'n_neighbors': 30}           0.794792   \n",
      "30                31  {'n_neighbors': 31}           0.798958   \n",
      "31                32  {'n_neighbors': 32}           0.793750   \n",
      "32                33  {'n_neighbors': 33}           0.789583   \n",
      "33                34  {'n_neighbors': 34}           0.787500   \n",
      "34                35  {'n_neighbors': 35}           0.789583   \n",
      "35                36  {'n_neighbors': 36}           0.786458   \n",
      "36                37  {'n_neighbors': 37}           0.789583   \n",
      "37                38  {'n_neighbors': 38}           0.785417   \n",
      "38                39  {'n_neighbors': 39}           0.787500   \n",
      "39                40  {'n_neighbors': 40}           0.785417   \n",
      "40                41  {'n_neighbors': 41}           0.786458   \n",
      "41                42  {'n_neighbors': 42}           0.783333   \n",
      "42                43  {'n_neighbors': 43}           0.785417   \n",
      "43                44  {'n_neighbors': 44}           0.778125   \n",
      "44                45  {'n_neighbors': 45}           0.780208   \n",
      "45                46  {'n_neighbors': 46}           0.782292   \n",
      "46                47  {'n_neighbors': 47}           0.785417   \n",
      "47                48  {'n_neighbors': 48}           0.786458   \n",
      "48                49  {'n_neighbors': 49}           0.785417   \n",
      "49                50  {'n_neighbors': 50}           0.787500   \n",
      "\n",
      "    split1_test_score  split2_test_score  split3_test_score  \\\n",
      "0            0.936458           0.941667           0.940625   \n",
      "1            0.905208           0.913542           0.928125   \n",
      "2            0.904167           0.915625           0.916667   \n",
      "3            0.878125           0.903125           0.900000   \n",
      "4            0.879167           0.900000           0.904167   \n",
      "5            0.857292           0.886458           0.876042   \n",
      "6            0.853125           0.882292           0.882292   \n",
      "7            0.851042           0.878125           0.877083   \n",
      "8            0.853125           0.868750           0.873958   \n",
      "9            0.835417           0.862500           0.872917   \n",
      "10           0.841667           0.860417           0.871875   \n",
      "11           0.826042           0.851042           0.865625   \n",
      "12           0.830208           0.855208           0.863542   \n",
      "13           0.818750           0.852083           0.861458   \n",
      "14           0.823958           0.851042           0.859375   \n",
      "15           0.809375           0.850000           0.854167   \n",
      "16           0.815625           0.848958           0.857292   \n",
      "17           0.808333           0.844792           0.854167   \n",
      "18           0.809375           0.845833           0.855208   \n",
      "19           0.810417           0.837500           0.856250   \n",
      "20           0.811458           0.836458           0.856250   \n",
      "21           0.802083           0.834375           0.856250   \n",
      "22           0.803125           0.838542           0.857292   \n",
      "23           0.802083           0.830208           0.852083   \n",
      "24           0.805208           0.831250           0.854167   \n",
      "25           0.804167           0.831250           0.843750   \n",
      "26           0.808333           0.830208           0.843750   \n",
      "27           0.804167           0.831250           0.843750   \n",
      "28           0.802083           0.834375           0.843750   \n",
      "29           0.800000           0.829167           0.845833   \n",
      "30           0.801042           0.831250           0.842708   \n",
      "31           0.797917           0.823958           0.841667   \n",
      "32           0.800000           0.825000           0.837500   \n",
      "33           0.794792           0.818750           0.840625   \n",
      "34           0.796875           0.821875           0.839583   \n",
      "35           0.795833           0.820833           0.834375   \n",
      "36           0.795833           0.822917           0.834375   \n",
      "37           0.797917           0.820833           0.833333   \n",
      "38           0.796875           0.821875           0.834375   \n",
      "39           0.791667           0.816667           0.832292   \n",
      "40           0.791667           0.818750           0.835417   \n",
      "41           0.790625           0.815625           0.830208   \n",
      "42           0.792708           0.815625           0.834375   \n",
      "43           0.785417           0.815625           0.828125   \n",
      "44           0.789583           0.814583           0.827083   \n",
      "45           0.787500           0.812500           0.826042   \n",
      "46           0.786458           0.814583           0.826042   \n",
      "47           0.789583           0.810417           0.826042   \n",
      "48           0.791667           0.809375           0.827083   \n",
      "49           0.789583           0.808333           0.829167   \n",
      "\n",
      "    split4_test_score  mean_test_score  std_test_score  rank_test_score  \n",
      "0            0.937500         0.940833        0.004029                1  \n",
      "1            0.903125         0.913333        0.008946                2  \n",
      "2            0.911458         0.912917        0.004778                3  \n",
      "3            0.897917         0.895208        0.008804                5  \n",
      "4            0.895833         0.895417        0.008580                4  \n",
      "5            0.876042         0.874583        0.009492                7  \n",
      "6            0.881250         0.876667        0.011815                6  \n",
      "7            0.860417         0.866042        0.010304                8  \n",
      "8            0.858333         0.864583        0.007655                9  \n",
      "9            0.840625         0.853333        0.013810               11  \n",
      "10           0.847917         0.855208        0.010417               10  \n",
      "11           0.833333         0.843542        0.013841               13  \n",
      "12           0.839583         0.847500        0.011667               12  \n",
      "13           0.830208         0.838750        0.015637               15  \n",
      "14           0.830208         0.839167        0.013591               14  \n",
      "15           0.827083         0.833750        0.016439               17  \n",
      "16           0.826042         0.835417        0.015366               16  \n",
      "17           0.819792         0.830208        0.016809               19  \n",
      "18           0.821875         0.830833        0.016971               18  \n",
      "19           0.811458         0.826458        0.017820               21  \n",
      "20           0.810417         0.827083        0.017318               20  \n",
      "21           0.806250         0.821667        0.020639               23  \n",
      "22           0.808333         0.823958        0.020655               22  \n",
      "23           0.808333         0.819167        0.019349               25  \n",
      "24           0.806250         0.821250        0.019010               24  \n",
      "25           0.805208         0.817708        0.016641               27  \n",
      "26           0.806250         0.818750        0.015520               26  \n",
      "27           0.797917         0.815208        0.018745               30  \n",
      "28           0.802083         0.816875        0.018357               28  \n",
      "29           0.800000         0.813958        0.020022               31  \n",
      "30           0.806250         0.816042        0.017636               29  \n",
      "31           0.804167         0.812292        0.017975               32  \n",
      "32           0.805208         0.811458        0.017381               33  \n",
      "33           0.804167         0.809167        0.018881               36  \n",
      "34           0.805208         0.810625        0.018035               34  \n",
      "35           0.801042         0.807708        0.017438               37  \n",
      "36           0.803125         0.809167        0.016866               35  \n",
      "37           0.794792         0.806458        0.017780               39  \n",
      "38           0.796875         0.807500        0.017633               38  \n",
      "39           0.795833         0.804375        0.017460               41  \n",
      "40           0.795833         0.805625        0.018536               40  \n",
      "41           0.790625         0.802083        0.017824               43  \n",
      "42           0.791667         0.803958        0.018345               42  \n",
      "43           0.790625         0.799583        0.019044               50  \n",
      "44           0.791667         0.800625        0.017401               47  \n",
      "45           0.791667         0.800000        0.016575               49  \n",
      "46           0.792708         0.801042        0.016338               44  \n",
      "47           0.788542         0.800208        0.015554               48  \n",
      "48           0.790625         0.800833        0.015414               45  \n",
      "49           0.789583         0.800833        0.016062               46  \n"
     ]
    }
   ],
   "source": [
    "results = pd.DataFrame(bestK.cv_results_)\n",
    "print(results)"
   ]
  },
  {
   "cell_type": "markdown",
   "id": "bd9ea070",
   "metadata": {},
   "source": [
    "<h1>Part 7: Final Evaluation on Test Set</h1>\n",
    "\n",
    "Positive case = Abnormal cases\n",
    "\n",
    "Negative case = Normal cases\n",
    "\n",
    "FP = Normal classified as Abnormal\n",
    "\n",
    "FN = Abnormal classified as Normal\n",
    "\n",
    "TP = Abnormal classified as Abnormal\n",
    "\n",
    "TN = Normal classified as Normal"
   ]
  },
  {
   "cell_type": "code",
   "execution_count": 8,
   "id": "d684868a",
   "metadata": {},
   "outputs": [],
   "source": [
    "from sklearn import metrics\n",
    "from matplotlib import pyplot as plt\n",
    "\n",
    "def eval(title, target, prediction):\n",
    "    TP = 0\n",
    "    FP = 0\n",
    "    TN = 0\n",
    "    FN = 0\n",
    "\n",
    "    for true, guess in zip(Y_test, Y_pred):\n",
    "        if(true == 1 and guess == 1):\n",
    "            TP = TP + 1\n",
    "        if(true == 0 and guess == 1):\n",
    "            FP = FP + 1\n",
    "        if(true == 0 and guess == 0):\n",
    "            TN = TN + 1\n",
    "        if(true == 1 and guess == 0):\n",
    "            FN = FN + 1\n",
    "    \n",
    "    precision = TP / (TP + FP)\n",
    "    recall = TP / (TP + FN)\n",
    "    manual_f1 = 2 * (precision * recall) / (precision + recall)\n",
    "    \n",
    "    acc = metrics.accuracy_score(target, prediction)\n",
    "    f1 = metrics.f1_score(target, prediction, pos_label=1)\n",
    "    \n",
    "    target_names = ['normal', 'abnormal']\n",
    "    cm = metrics.confusion_matrix(target, prediction)\n",
    "    cmplt = metrics.ConfusionMatrixDisplay(cm)\n",
    "    cmplt.plot()\n",
    "    plt.title(title)\n",
    "    plt.show()\n",
    "    \n",
    "    print(\"\\n\")\n",
    "    print(title)\n",
    "    print(\"\\n\")\n",
    "    print(\"TP: %d FP: %d TN: %d FN: %d\" % (TP, FP, TN, FN))\n",
    "    print(\"Accuracy: %0.3f\" % acc)\n",
    "    print(\"Built-in function F1: %0.3f\" % f1)\n",
    "    print(\"Manually calculated F1: %0.3f\" % manual_f1)\n",
    "    print(\"\\n\")\n",
    "    \n",
    "    print(metrics.classification_report(target, prediction, target_names=target_names))"
   ]
  },
  {
   "cell_type": "code",
   "execution_count": 9,
   "id": "19d02559",
   "metadata": {},
   "outputs": [
    {
     "name": "stdout",
     "output_type": "stream",
     "text": [
      "{'n_neighbors': 1}\n"
     ]
    },
    {
     "data": {
      "image/png": "[encoded data removed]",
      "text/plain": [
       "<Figure size 640x480 with 2 Axes>"
      ]
     },
     "metadata": {},
     "output_type": "display_data"
    },
    {
     "name": "stdout",
     "output_type": "stream",
     "text": [
      "\n",
      "\n",
      "Logistic Regression (Best K)\n",
      "\n",
      "\n",
      "TP: 574 FP: 32 TN: 568 FN: 26\n",
      "Accuracy: 0.952\n",
      "Built-in function F1: 0.952\n",
      "Manually calculated F1: 0.952\n",
      "\n",
      "\n",
      "              precision    recall  f1-score   support\n",
      "\n",
      "      normal       0.96      0.95      0.95       600\n",
      "    abnormal       0.95      0.96      0.95       600\n",
      "\n",
      "    accuracy                           0.95      1200\n",
      "   macro avg       0.95      0.95      0.95      1200\n",
      "weighted avg       0.95      0.95      0.95      1200\n",
      "\n",
      "Final Accuracy:  0.9516666666666667\n"
     ]
    }
   ],
   "source": [
    "print(bestK.best_params_)\n",
    "Y_pred = bestK.predict(X_test)\n",
    "eval(\"Logistic Regression (Best K)\", Y_test, Y_pred)\n",
    "accuracy = bestK.score(X_test, Y_test)\n",
    "print(\"Final Accuracy: \", accuracy)"
   ]
  },
  {
   "cell_type": "markdown",
   "id": "6f71e3ad",
   "metadata": {},
   "source": [
    "<h1>Part 8: Predicting Test Set</h1>"
   ]
  },
  {
   "cell_type": "code",
   "execution_count": 10,
   "id": "30a8bf0f",
   "metadata": {},
   "outputs": [],
   "source": [
    "Y_final = bestK.predict(testDataBinary)\n",
    "Y_final = pd.DataFrame(Y_final, columns=['Final Prediction'])"
   ]
  },
  {
   "cell_type": "code",
   "execution_count": 11,
   "id": "e0d2cb30",
   "metadata": {},
   "outputs": [
    {
     "data": {
      "text/plain": [
       "Final Prediction\n",
       "1                   55\n",
       "0                   45\n",
       "dtype: int64"
      ]
     },
     "execution_count": 11,
     "metadata": {},
     "output_type": "execute_result"
    }
   ],
   "source": [
    "Y_final.value_counts()"
   ]
  },
  {
   "cell_type": "markdown",
   "id": "c8581e5c",
   "metadata": {},
   "source": [
    "<h1>Part 9: Exporting to .csv File</h1>"
   ]
  },
  {
   "cell_type": "code",
   "execution_count": 12,
   "id": "1b449dd3",
   "metadata": {},
   "outputs": [],
   "source": [
    "Y_final.to_csv('results_csv/A6.csv', index=False)"
   ]
  },
  {
   "cell_type": "code",
   "execution_count": null,
   "id": "06c7972b",
   "metadata": {},
   "outputs": [],
   "source": []
  }
 ],
 "metadata": {
  "kernelspec": {
   "display_name": "Python 3 (ipykernel)",
   "language": "python",
   "name": "python3"
  },
  "language_info": {
   "codemirror_mode": {
    "name": "ipython",
    "version": 3
   },
   "file_extension": ".py",
   "mimetype": "text/x-python",
   "name": "python",
   "nbconvert_exporter": "python",
   "pygments_lexer": "ipython3",
   "version": "3.10.8"
  }
 },
 "nbformat": 4,
 "nbformat_minor": 5
}
