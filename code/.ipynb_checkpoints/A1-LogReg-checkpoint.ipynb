{
 "cells": [
  {
   "cell_type": "markdown",
   "id": "069f9a3c",
   "metadata": {},
   "source": [
    "<h1>Part 1: Importing Libraries</h1>"
   ]
  },
  {
   "cell_type": "code",
   "execution_count": 1,
   "id": "e417a78e",
   "metadata": {},
   "outputs": [],
   "source": [
    "import pandas as pd\n",
    "import numpy as np"
   ]
  },
  {
   "cell_type": "markdown",
   "id": "2bf14769",
   "metadata": {},
   "source": [
    "<h1>Part 2: Loading Datasets</h1>"
   ]
  },
  {
   "cell_type": "code",
   "execution_count": 2,
   "id": "1e845f16",
   "metadata": {},
   "outputs": [
    {
     "name": "stdout",
     "output_type": "stream",
     "text": [
      "Part A Training Data\n",
      "<class 'pandas.core.frame.DataFrame'>\n",
      "RangeIndex: 6000 entries, 0 to 5999\n",
      "Columns: 129 entries, R1-PA1:VH to marker\n",
      "dtypes: float64(112), int64(17)\n",
      "memory usage: 5.9 MB\n",
      "\n",
      "Part A Testing Data\n",
      "<class 'pandas.core.frame.DataFrame'>\n",
      "RangeIndex: 100 entries, 0 to 99\n",
      "Columns: 128 entries, R1-PA1:VH to snort_log4\n",
      "dtypes: float64(112), int64(16)\n",
      "memory usage: 100.1 KB\n"
     ]
    }
   ],
   "source": [
    "trainDataBinary = pd.read_csv('data\\TrainingDataBinary.csv', sep=',')\n",
    "testDataBinary = pd.read_csv('data\\TestingDataBinary.csv', sep=',')\n",
    "\n",
    "# to check whether data was correctly loaded\n",
    "print(\"Part A Training Data\")\n",
    "trainDataBinary.info() \n",
    "print(\"\\nPart A Testing Data\")\n",
    "testDataBinary.info()"
   ]
  },
  {
   "cell_type": "markdown",
   "id": "cb8a1180",
   "metadata": {},
   "source": [
    "<h1>Part 3: Data Preprocessing</h1>\n",
    "\n",
    "The hold-out method was used to separate the labelled data instances into a training set and a test set. A 80-20 split was used instead of a 70-30 split. The 80-20 split gives a larger training set for the model, which can potentially improve classification performance.\n",
    "\n",
    "The provided training data has a balanced distribution of the two labels. Therefore, the training set and test set will also has the same distribution. "
   ]
  },
  {
   "cell_type": "code",
   "execution_count": 3,
   "id": "966447f2",
   "metadata": {},
   "outputs": [],
   "source": [
    "from sklearn.model_selection import train_test_split\n",
    "\n",
    "# getting the labels\n",
    "Y = trainDataBinary['marker']\n",
    "# removing the labels in the dataset\n",
    "X = trainDataBinary.drop('marker',axis=1)\n",
    "\n",
    "# splitting the training dataset into training set and test set\n",
    "# 80-20 split (larger training set to improve model performance)\n",
    "X_train, X_test, Y_train, Y_test = train_test_split(X, Y, test_size=0.2, random_state=58, stratify=Y)"
   ]
  },
  {
   "cell_type": "code",
   "execution_count": 4,
   "id": "1c5400ce",
   "metadata": {},
   "outputs": [
    {
     "data": {
      "text/plain": [
       "1    600\n",
       "0    600\n",
       "Name: marker, dtype: int64"
      ]
     },
     "execution_count": 4,
     "metadata": {},
     "output_type": "execute_result"
    }
   ],
   "source": [
    "# ensuring test set has 50-50 split of labels\n",
    "Y_test.value_counts()"
   ]
  },
  {
   "cell_type": "markdown",
   "id": "83888552",
   "metadata": {},
   "source": [
    "<h1>Part 4: Feature Selection</h1>\n",
    "\n",
    "None. Raw features were used to train the model."
   ]
  },
  {
   "cell_type": "markdown",
   "id": "000b877c",
   "metadata": {},
   "source": [
    "<h1>Part 5: Model Selection (Logistic Regression)</h1>"
   ]
  },
  {
   "cell_type": "code",
   "execution_count": 5,
   "id": "470e18d6",
   "metadata": {},
   "outputs": [
    {
     "data": {
      "text/html": [
       "<style>#sk-container-id-1 {color: black;background-color: white;}#sk-container-id-1 pre{padding: 0;}#sk-container-id-1 div.sk-toggleable {background-color: white;}#sk-container-id-1 label.sk-toggleable__label {cursor: pointer;display: block;width: 100%;margin-bottom: 0;padding: 0.3em;box-sizing: border-box;text-align: center;}#sk-container-id-1 label.sk-toggleable__label-arrow:before {content: \"▸\";float: left;margin-right: 0.25em;color: #696969;}#sk-container-id-1 label.sk-toggleable__label-arrow:hover:before {color: black;}#sk-container-id-1 div.sk-estimator:hover label.sk-toggleable__label-arrow:before {color: black;}#sk-container-id-1 div.sk-toggleable__content {max-height: 0;max-width: 0;overflow: hidden;text-align: left;background-color: #f0f8ff;}#sk-container-id-1 div.sk-toggleable__content pre {margin: 0.2em;color: black;border-radius: 0.25em;background-color: #f0f8ff;}#sk-container-id-1 input.sk-toggleable__control:checked~div.sk-toggleable__content {max-height: 200px;max-width: 100%;overflow: auto;}#sk-container-id-1 input.sk-toggleable__control:checked~label.sk-toggleable__label-arrow:before {content: \"▾\";}#sk-container-id-1 div.sk-estimator input.sk-toggleable__control:checked~label.sk-toggleable__label {background-color: #d4ebff;}#sk-container-id-1 div.sk-label input.sk-toggleable__control:checked~label.sk-toggleable__label {background-color: #d4ebff;}#sk-container-id-1 input.sk-hidden--visually {border: 0;clip: rect(1px 1px 1px 1px);clip: rect(1px, 1px, 1px, 1px);height: 1px;margin: -1px;overflow: hidden;padding: 0;position: absolute;width: 1px;}#sk-container-id-1 div.sk-estimator {font-family: monospace;background-color: #f0f8ff;border: 1px dotted black;border-radius: 0.25em;box-sizing: border-box;margin-bottom: 0.5em;}#sk-container-id-1 div.sk-estimator:hover {background-color: #d4ebff;}#sk-container-id-1 div.sk-parallel-item::after {content: \"\";width: 100%;border-bottom: 1px solid gray;flex-grow: 1;}#sk-container-id-1 div.sk-label:hover label.sk-toggleable__label {background-color: #d4ebff;}#sk-container-id-1 div.sk-serial::before {content: \"\";position: absolute;border-left: 1px solid gray;box-sizing: border-box;top: 0;bottom: 0;left: 50%;z-index: 0;}#sk-container-id-1 div.sk-serial {display: flex;flex-direction: column;align-items: center;background-color: white;padding-right: 0.2em;padding-left: 0.2em;position: relative;}#sk-container-id-1 div.sk-item {position: relative;z-index: 1;}#sk-container-id-1 div.sk-parallel {display: flex;align-items: stretch;justify-content: center;background-color: white;position: relative;}#sk-container-id-1 div.sk-item::before, #sk-container-id-1 div.sk-parallel-item::before {content: \"\";position: absolute;border-left: 1px solid gray;box-sizing: border-box;top: 0;bottom: 0;left: 50%;z-index: -1;}#sk-container-id-1 div.sk-parallel-item {display: flex;flex-direction: column;z-index: 1;position: relative;background-color: white;}#sk-container-id-1 div.sk-parallel-item:first-child::after {align-self: flex-end;width: 50%;}#sk-container-id-1 div.sk-parallel-item:last-child::after {align-self: flex-start;width: 50%;}#sk-container-id-1 div.sk-parallel-item:only-child::after {width: 0;}#sk-container-id-1 div.sk-dashed-wrapped {border: 1px dashed gray;margin: 0 0.4em 0.5em 0.4em;box-sizing: border-box;padding-bottom: 0.4em;background-color: white;}#sk-container-id-1 div.sk-label label {font-family: monospace;font-weight: bold;display: inline-block;line-height: 1.2em;}#sk-container-id-1 div.sk-label-container {text-align: center;}#sk-container-id-1 div.sk-container {/* jupyter's `normalize.less` sets `[hidden] { display: none; }` but bootstrap.min.css set `[hidden] { display: none !important; }` so we also need the `!important` here to be able to override the default hidden behavior on the sphinx rendered scikit-learn.org. See: https://github.com/scikit-learn/scikit-learn/issues/21755 */display: inline-block !important;position: relative;}#sk-container-id-1 div.sk-text-repr-fallback {display: none;}</style><div id=\"sk-container-id-1\" class=\"sk-top-container\"><div class=\"sk-text-repr-fallback\"><pre>LogisticRegression(max_iter=10000, tol=0.1)</pre><b>In a Jupyter environment, please rerun this cell to show the HTML representation or trust the notebook. <br />On GitHub, the HTML representation is unable to render, please try loading this page with nbviewer.org.</b></div><div class=\"sk-container\" hidden><div class=\"sk-item\"><div class=\"sk-estimator sk-toggleable\"><input class=\"sk-toggleable__control sk-hidden--visually\" id=\"sk-estimator-id-1\" type=\"checkbox\" checked><label for=\"sk-estimator-id-1\" class=\"sk-toggleable__label sk-toggleable__label-arrow\">LogisticRegression</label><div class=\"sk-toggleable__content\"><pre>LogisticRegression(max_iter=10000, tol=0.1)</pre></div></div></div></div></div>"
      ],
      "text/plain": [
       "LogisticRegression(max_iter=10000, tol=0.1)"
      ]
     },
     "execution_count": 5,
     "metadata": {},
     "output_type": "execute_result"
    }
   ],
   "source": [
    "from sklearn.linear_model import LogisticRegression\n",
    "clf = LogisticRegression(max_iter=10000, tol=0.1)\n",
    "\n",
    "clf.fit(X_train, Y_train)"
   ]
  },
  {
   "cell_type": "markdown",
   "id": "dadb1580",
   "metadata": {},
   "source": [
    "<h1>Part 6: Hyperparameter Tuning</h1>\n",
    "\n",
    "None."
   ]
  },
  {
   "cell_type": "markdown",
   "id": "bd9ea070",
   "metadata": {},
   "source": [
    "<h1>Part 7: Final Evaluation on Test Set</h1>\n",
    "\n",
    "Positive case = Abnormal cases\n",
    "\n",
    "Negative case = Normal cases\n",
    "\n",
    "FP = Normal classified as Abnormal\n",
    "\n",
    "FN = Abnormal classified as Normal\n",
    "\n",
    "TP = Abnormal classified as Abnormal\n",
    "\n",
    "TN = Normal classified as Normal"
   ]
  },
  {
   "cell_type": "code",
   "execution_count": 6,
   "id": "d684868a",
   "metadata": {},
   "outputs": [],
   "source": [
    "from sklearn import metrics\n",
    "from matplotlib import pyplot as plt\n",
    "\n",
    "def eval(title, target, prediction):\n",
    "    TP = 0\n",
    "    FP = 0\n",
    "    TN = 0\n",
    "    FN = 0\n",
    "\n",
    "    for true, guess in zip(Y_test, Y_pred):\n",
    "        if(true == 1 and guess == 1):\n",
    "            TP = TP + 1\n",
    "        if(true == 0 and guess == 1):\n",
    "            FP = FP + 1\n",
    "        if(true == 0 and guess == 0):\n",
    "            TN = TN + 1\n",
    "        if(true == 1 and guess == 0):\n",
    "            FN = FN + 1\n",
    "    \n",
    "    precision = TP / (TP + FP)\n",
    "    recall = TP / (TP + FN)\n",
    "    manual_f1 = 2 * (precision * recall) / (precision + recall)\n",
    "    \n",
    "    acc = metrics.accuracy_score(target, prediction)\n",
    "    f1 = metrics.f1_score(target, prediction, pos_label=1)\n",
    "    \n",
    "    target_names = ['normal', 'abnormal']\n",
    "    cm = metrics.confusion_matrix(target, prediction)\n",
    "    cmplt = metrics.ConfusionMatrixDisplay(cm)\n",
    "    cmplt.plot()\n",
    "    plt.title(title)\n",
    "    plt.show()\n",
    "    \n",
    "    print(\"\\n\")\n",
    "    print(title)\n",
    "    print(\"\\n\")\n",
    "    print(\"TP: %d FP: %d TN: %d FN: %d\" % (TP, FP, TN, FN))\n",
    "    print(\"Accuracy: %0.3f\" % acc)\n",
    "    print(\"Built-in function F1: %0.3f\" % f1)\n",
    "    print(\"Manually calculated F1: %0.3f\" % manual_f1)\n",
    "    print(\"\\n\")\n",
    "    \n",
    "    print(metrics.classification_report(target, prediction, target_names=target_names))"
   ]
  },
  {
   "cell_type": "code",
   "execution_count": 7,
   "id": "19d02559",
   "metadata": {},
   "outputs": [
    {
     "data": {
      "image/png": "[encoded data removed]",
      "text/plain": [
       "<Figure size 640x480 with 2 Axes>"
      ]
     },
     "metadata": {},
     "output_type": "display_data"
    },
    {
     "name": "stdout",
     "output_type": "stream",
     "text": [
      "\n",
      "\n",
      "Logistic Regression (Base)\n",
      "\n",
      "\n",
      "TP: 480 FP: 41 TN: 559 FN: 120\n",
      "Accuracy: 0.866\n",
      "Built-in function F1: 0.856\n",
      "Manually calculated F1: 0.856\n",
      "\n",
      "\n",
      "              precision    recall  f1-score   support\n",
      "\n",
      "      normal       0.82      0.93      0.87       600\n",
      "    abnormal       0.92      0.80      0.86       600\n",
      "\n",
      "    accuracy                           0.87      1200\n",
      "   macro avg       0.87      0.87      0.87      1200\n",
      "weighted avg       0.87      0.87      0.87      1200\n",
      "\n",
      "Final Accuracy:  0.8658333333333333\n"
     ]
    }
   ],
   "source": [
    "Y_pred = clf.predict(X_test)\n",
    "eval(\"Logistic Regression (Base)\", Y_test, Y_pred)\n",
    "accuracy = clf.score(X_test, Y_test)\n",
    "print(\"Final Accuracy: \", accuracy)"
   ]
  },
  {
   "cell_type": "markdown",
   "id": "6f71e3ad",
   "metadata": {},
   "source": [
    "<h1>Part 8: Predicting Test Set</h1>"
   ]
  },
  {
   "cell_type": "code",
   "execution_count": 8,
   "id": "30a8bf0f",
   "metadata": {},
   "outputs": [],
   "source": [
    "Y_final = clf.predict(testDataBinary)\n",
    "Y_final = pd.DataFrame(Y_final, columns=['Final Prediction'])"
   ]
  },
  {
   "cell_type": "code",
   "execution_count": 9,
   "id": "e0d2cb30",
   "metadata": {},
   "outputs": [
    {
     "data": {
      "text/plain": [
       "Final Prediction\n",
       "1                   51\n",
       "0                   49\n",
       "dtype: int64"
      ]
     },
     "execution_count": 9,
     "metadata": {},
     "output_type": "execute_result"
    }
   ],
   "source": [
    "Y_final.value_counts()"
   ]
  },
  {
   "cell_type": "markdown",
   "id": "c8581e5c",
   "metadata": {},
   "source": [
    "<h1>Part 9: Exporting to .csv File</h1>"
   ]
  },
  {
   "cell_type": "code",
   "execution_count": 10,
   "id": "1b449dd3",
   "metadata": {},
   "outputs": [],
   "source": [
    "Y_final.to_csv('results_csv/A1.csv', index=False)"
   ]
  },
  {
   "cell_type": "code",
   "execution_count": null,
   "id": "06c7972b",
   "metadata": {},
   "outputs": [],
   "source": []
  }
 ],
 "metadata": {
  "kernelspec": {
   "display_name": "Python 3 (ipykernel)",
   "language": "python",
   "name": "python3"
  },
  "language_info": {
   "codemirror_mode": {
    "name": "ipython",
    "version": 3
   },
   "file_extension": ".py",
   "mimetype": "text/x-python",
   "name": "python",
   "nbconvert_exporter": "python",
   "pygments_lexer": "ipython3",
   "version": "3.10.8"
  }
 },
 "nbformat": 4,
 "nbformat_minor": 5
}
