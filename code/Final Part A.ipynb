{
 "cells": [
  {
   "cell_type": "markdown",
   "id": "069f9a3c",
   "metadata": {},
   "source": [
    "<h1>Part 1: Importing Libraries</h1>"
   ]
  },
  {
   "cell_type": "code",
   "execution_count": 1,
   "id": "e417a78e",
   "metadata": {},
   "outputs": [],
   "source": [
    "import pandas as pd\n",
    "import numpy as np\n",
    "%matplotlib inline\n",
    "import matplotlib.pyplot as plt"
   ]
  },
  {
   "cell_type": "markdown",
   "id": "2bf14769",
   "metadata": {},
   "source": [
    "<h1>Part 2: Data Exploration</h1>"
   ]
  },
  {
   "cell_type": "code",
   "execution_count": 2,
   "id": "1e845f16",
   "metadata": {},
   "outputs": [
    {
     "name": "stdout",
     "output_type": "stream",
     "text": [
      "Part A Training Data\n",
      "<class 'pandas.core.frame.DataFrame'>\n",
      "RangeIndex: 6000 entries, 0 to 5999\n",
      "Columns: 129 entries, R1-PA1:VH to marker\n",
      "dtypes: float64(112), int64(17)\n",
      "memory usage: 5.9 MB\n",
      "\n",
      "Part A Testing Data\n",
      "<class 'pandas.core.frame.DataFrame'>\n",
      "RangeIndex: 100 entries, 0 to 99\n",
      "Columns: 128 entries, R1-PA1:VH to snort_log4\n",
      "dtypes: float64(112), int64(16)\n",
      "memory usage: 100.1 KB\n"
     ]
    }
   ],
   "source": [
    "trainDataBinary = pd.read_csv('data\\TrainingDataBinary.csv', sep=',')\n",
    "testDataBinary = pd.read_csv('data\\TestingDataBinary.csv', sep=',')\n",
    "\n",
    "# to check whether data was correctly loaded\n",
    "print(\"Part A Training Data\")\n",
    "trainDataBinary.info() \n",
    "print(\"\\nPart A Testing Data\")\n",
    "testDataBinary.info()"
   ]
  },
  {
   "cell_type": "markdown",
   "id": "82c2a773",
   "metadata": {},
   "source": [
    "Detecting invalid data and missing values within the dataset."
   ]
  },
  {
   "cell_type": "code",
   "execution_count": 3,
   "id": "ad0ccac1",
   "metadata": {},
   "outputs": [
    {
     "name": "stdout",
     "output_type": "stream",
     "text": [
      "No NaN values were detected.\n",
      "No N/A values were detected\n"
     ]
    }
   ],
   "source": [
    "na_detected = False\n",
    "NaN_detected = False\n",
    "\n",
    "for i in range(128):\n",
    "    na_count = trainDataBinary.isna().values.any()\n",
    "    NaN_count = trainDataBinary.isnull().values.any()\n",
    "    if NaN_count != 0:\n",
    "        #print('Column' + i + 'has' + NaN_count + 'NaN values.\\n')\n",
    "        NaN_detected = True\n",
    "    if na_count != 0:\n",
    "        na_detected = True\n",
    "\n",
    "if NaN_detected == False:\n",
    "    print('No NaN values were detected.')\n",
    "    \n",
    "if na_detected == False:\n",
    "    print('No N/A values were detected')"
   ]
  },
  {
   "cell_type": "markdown",
   "id": "edafe9f3",
   "metadata": {},
   "source": [
    "Verifying event label distribution balance"
   ]
  },
  {
   "cell_type": "code",
   "execution_count": 4,
   "id": "f3ba758d",
   "metadata": {},
   "outputs": [
    {
     "data": {
      "image/png": "[encoded data removed]",
      "text/plain": [
       "<Figure size 640x480 with 1 Axes>"
      ]
     },
     "metadata": {},
     "output_type": "display_data"
    }
   ],
   "source": [
    "labelplt = trainDataBinary['marker'].value_counts().sort_values().plot(kind='bar', title='Number of Event Labels in Training Data', xlabel='Type of Event')\n",
    "labelplt.bar_label(labelplt.containers[0], label_type = 'center')\n",
    "plt.show()"
   ]
  },
  {
   "cell_type": "markdown",
   "id": "cb8a1180",
   "metadata": {},
   "source": [
    "<h1>Part 3: Data Preprocessing</h1>\n",
    "\n",
    "The hold-out method was used to separate the labelled data instances into a training set and a test set. A 80-20 split was used instead of a 70-30 split. The 80-20 split gives a larger training set for the model, which can potentially improve classification performance.\n",
    "\n",
    "The provided training data has a balanced distribution of the two labels. Therefore, the training set and test set will also has the same distribution. "
   ]
  },
  {
   "cell_type": "code",
   "execution_count": 5,
   "id": "966447f2",
   "metadata": {},
   "outputs": [],
   "source": [
    "from sklearn.model_selection import train_test_split\n",
    "\n",
    "# getting the labels\n",
    "Y = trainDataBinary['marker']\n",
    "# removing the labels in the dataset\n",
    "X = trainDataBinary.drop('marker',axis=1)\n",
    "\n",
    "# splitting the training dataset into training set and test set\n",
    "# 80-20 split (larger training set to improve model performance)\n",
    "X_train, X_test, Y_train, Y_test = train_test_split(X, Y, test_size=0.2, random_state=58, stratify=Y)"
   ]
  },
  {
   "cell_type": "code",
   "execution_count": 6,
   "id": "1c5400ce",
   "metadata": {},
   "outputs": [
    {
     "data": {
      "text/plain": [
       "1    600\n",
       "0    600\n",
       "Name: marker, dtype: int64"
      ]
     },
     "execution_count": 6,
     "metadata": {},
     "output_type": "execute_result"
    }
   ],
   "source": [
    "# ensuring test set has 50-50 split of labels\n",
    "Y_test.value_counts()"
   ]
  },
  {
   "cell_type": "markdown",
   "id": "9fddf4de",
   "metadata": {},
   "source": [
    "Standardizing all features using StandardScaler"
   ]
  },
  {
   "cell_type": "code",
   "execution_count": 7,
   "id": "23660efc",
   "metadata": {},
   "outputs": [],
   "source": [
    "from sklearn.preprocessing import StandardScaler\n",
    "\n",
    "scaler = StandardScaler()\n",
    "X_train = scaler.fit_transform(X_train)\n",
    "X_test = scaler.transform(X_test)\n",
    "testDataBinary = scaler.transform(testDataBinary)"
   ]
  },
  {
   "cell_type": "markdown",
   "id": "83888552",
   "metadata": {},
   "source": [
    "<h1>Part 4: Feature Selection</h1>\n",
    "\n",
    "None. Raw features were used to train the model."
   ]
  },
  {
   "cell_type": "markdown",
   "id": "000b877c",
   "metadata": {},
   "source": [
    "<h1>Part 5: Model Selection (Logistic Regression)</h1>"
   ]
  },
  {
   "cell_type": "code",
   "execution_count": 8,
   "id": "470e18d6",
   "metadata": {},
   "outputs": [],
   "source": [
    "from sklearn.linear_model import LogisticRegression\n",
    "clf = LogisticRegression(max_iter=10000, tol=0.1)"
   ]
  },
  {
   "cell_type": "markdown",
   "id": "dadb1580",
   "metadata": {},
   "source": [
    "<h1>Part 6: Hyperparameter Tuning</h1>\n",
    "\n",
    "Optimal value of the hyperparameter C was found using GridSearchCV in the range of 0 to 10000 (50 points on a log scale)."
   ]
  },
  {
   "cell_type": "code",
   "execution_count": 9,
   "id": "8bc78797",
   "metadata": {},
   "outputs": [
    {
     "name": "stdout",
     "output_type": "stream",
     "text": [
      "Fitting 5 folds for each of 50 candidates, totalling 250 fits\n",
      "Best parameter (CV score=0.920):\n",
      "{'C': 232.99518105153717}\n"
     ]
    }
   ],
   "source": [
    "from sklearn.model_selection import GridSearchCV\n",
    "\n",
    "param_grid = {\n",
    "    \"C\": np.logspace(0, 4, 50),\n",
    "}\n",
    "\n",
    "bestclf = GridSearchCV(clf, param_grid, n_jobs=-1, cv=5, verbose=4)\n",
    "bestclf.fit(X_train, Y_train)\n",
    "print(\"Best parameter (CV score=%0.3f):\" % bestclf.best_score_)\n",
    "print(bestclf.best_params_)"
   ]
  },
  {
   "cell_type": "code",
   "execution_count": 10,
   "id": "ec9c9d06",
   "metadata": {},
   "outputs": [
    {
     "name": "stdout",
     "output_type": "stream",
     "text": [
      "    mean_fit_time  std_fit_time  mean_score_time  std_score_time      param_C  \\\n",
      "0        0.599142      0.033581         0.002104        0.000485          1.0   \n",
      "1        0.668278      0.062268         0.001614        0.000807     1.206793   \n",
      "2        0.746325      0.047444         0.001712        0.000610     1.456348   \n",
      "3        0.791101      0.070540         0.001602        0.000493     1.757511   \n",
      "4        0.812497      0.046163         0.003310        0.003200     2.120951   \n",
      "5        0.887660      0.047122         0.001617        0.000371     2.559548   \n",
      "6        1.032531      0.100594         0.002318        0.000756     3.088844   \n",
      "7        1.071986      0.115855         0.002015        0.000323     3.727594   \n",
      "8        1.175551      0.083547         0.001520        0.000780     4.498433   \n",
      "9        1.304032      0.101612         0.001603        0.001023     5.428675   \n",
      "10       1.367998      0.133152         0.001711        0.000404     6.551286   \n",
      "11       1.494778      0.151457         0.002020        0.000556     7.906043   \n",
      "12       1.593334      0.097258         0.002154        0.000203     9.540955   \n",
      "13       1.627962      0.185310         0.001889        0.000708    11.513954   \n",
      "14       1.796829      0.148596         0.002010        0.000010    13.894955   \n",
      "15       1.887541      0.229950         0.001497        0.000426    16.768329   \n",
      "16       2.391433      0.546105         0.000797        0.000399    20.235896   \n",
      "17       2.495679      0.655777         0.001154        0.000316    24.420531   \n",
      "18       2.425911      0.350771         0.001020        0.000033    29.470517   \n",
      "19       2.769055      0.633478         0.000871        0.000327    35.564803   \n",
      "20       3.146375      0.231843         0.001000        0.000003    42.919343   \n",
      "21       3.293649      0.881055         0.000965        0.000079    51.794747   \n",
      "22       4.001859      0.643586         0.001085        0.000221    62.505519   \n",
      "23       4.479279      0.523987         0.000820        0.000412    75.431201   \n",
      "24       4.029564      1.066913         0.000797        0.000399    91.029818   \n",
      "25       4.167733      0.265833         0.000740        0.000377   109.854114   \n",
      "26       5.109792      1.446675         0.000764        0.000389   132.571137   \n",
      "27       4.877708      0.920952         0.000796        0.000398   159.985872   \n",
      "28       5.696622      1.441210         0.001038        0.000053   193.069773   \n",
      "29       5.524569      0.770109         0.000953        0.000539   232.995181   \n",
      "30       6.223195      0.555075         0.001023        0.000036    281.17687   \n",
      "31       7.642313      0.259255         0.000991        0.000581   339.322177   \n",
      "32       5.922608      2.068496         0.000975        0.000628   409.491506   \n",
      "33       7.231906      1.372442         0.000991        0.000044   494.171336   \n",
      "34       8.031867      0.868653         0.001211        0.000331   596.362332   \n",
      "35       8.303899      0.692194         0.001023        0.000056   719.685673   \n",
      "36       8.378238      1.472199         0.001006        0.000020   868.511374   \n",
      "37       8.351695      1.101851         0.000927        0.000149  1048.113134   \n",
      "38       9.192713      2.270013         0.001023        0.000054  1264.855217   \n",
      "39       9.819816      1.380461         0.001015        0.000027  1526.417967   \n",
      "40       9.712808      1.166700         0.001312        0.001716  1842.069969   \n",
      "41      10.747250      1.378296         0.000820        0.000412  2222.996483   \n",
      "42      11.190360      2.145791         0.000980        0.000071  2682.695795   \n",
      "43      11.244436      1.041786         0.001035        0.000082  3237.457543   \n",
      "44      13.331758      2.378638         0.010552        0.019078  3906.939937   \n",
      "45      15.173139      1.751148         0.001196        0.000745  4714.866363   \n",
      "46      14.388320      0.336903         0.001014        0.000044  5689.866029   \n",
      "47      11.978172      1.674779         0.001021        0.000036   6866.48845   \n",
      "48      11.354451      1.569744         0.001010        0.000041  8286.427729   \n",
      "49       9.091310      0.548455         0.001003        0.000004      10000.0   \n",
      "\n",
      "                       params  split0_test_score  split1_test_score  \\\n",
      "0                  {'C': 1.0}           0.882292           0.877083   \n",
      "1   {'C': 1.2067926406393286}           0.882292           0.878125   \n",
      "2   {'C': 1.4563484775012439}           0.886458           0.881250   \n",
      "3   {'C': 1.7575106248547918}           0.886458           0.883333   \n",
      "4    {'C': 2.120950887920191}           0.888542           0.884375   \n",
      "5   {'C': 2.5595479226995357}           0.889583           0.887500   \n",
      "6    {'C': 3.088843596477481}           0.891667           0.890625   \n",
      "7     {'C': 3.72759372031494}           0.895833           0.890625   \n",
      "8    {'C': 4.498432668969445}           0.896875           0.890625   \n",
      "9    {'C': 5.428675439323859}           0.896875           0.892708   \n",
      "10   {'C': 6.551285568595508}           0.896875           0.896875   \n",
      "11   {'C': 7.906043210907698}           0.897917           0.897917   \n",
      "12    {'C': 9.54095476349994}           0.902083           0.896875   \n",
      "13  {'C': 11.513953993264469}           0.901042           0.900000   \n",
      "14  {'C': 13.894954943731374}           0.902083           0.900000   \n",
      "15  {'C': 16.768329368110074}           0.903125           0.902083   \n",
      "16  {'C': 20.235896477251565}           0.904167           0.903125   \n",
      "17   {'C': 24.42053094548651}           0.908333           0.905208   \n",
      "18    {'C': 29.4705170255181}           0.911458           0.902083   \n",
      "19  {'C': 35.564803062231285}           0.908333           0.906250   \n",
      "20   {'C': 42.91934260128776}           0.910417           0.907292   \n",
      "21    {'C': 51.7947467923121}           0.910417           0.910417   \n",
      "22  {'C': 62.505519252739695}           0.910417           0.911458   \n",
      "23   {'C': 75.43120063354615}           0.911458           0.914583   \n",
      "24   {'C': 91.02981779915217}           0.913542           0.915625   \n",
      "25  {'C': 109.85411419875584}           0.911458           0.916667   \n",
      "26  {'C': 132.57113655901082}           0.912500           0.914583   \n",
      "27  {'C': 159.98587196060572}           0.913542           0.913542   \n",
      "28  {'C': 193.06977288832496}           0.914583           0.914583   \n",
      "29  {'C': 232.99518105153717}           0.911458           0.915625   \n",
      "30   {'C': 281.1768697974228}           0.911458           0.915625   \n",
      "31   {'C': 339.3221771895326}           0.911458           0.915625   \n",
      "32  {'C': 409.49150623804235}           0.910417           0.916667   \n",
      "33   {'C': 494.1713361323833}           0.911458           0.916667   \n",
      "34   {'C': 596.3623316594643}           0.912500           0.917708   \n",
      "35   {'C': 719.6856730011514}           0.912500           0.915625   \n",
      "36    {'C': 868.511373751352}           0.912500           0.915625   \n",
      "37  {'C': 1048.1131341546852}           0.913542           0.916667   \n",
      "38  {'C': 1264.8552168552958}           0.912500           0.916667   \n",
      "39  {'C': 1526.4179671752318}           0.912500           0.916667   \n",
      "40  {'C': 1842.0699693267145}           0.911458           0.915625   \n",
      "41   {'C': 2222.996482526193}           0.911458           0.915625   \n",
      "42  {'C': 2682.6957952797247}           0.913542           0.916667   \n",
      "43   {'C': 3237.457542817643}           0.912500           0.912500   \n",
      "44   {'C': 3906.939937054613}           0.914583           0.914583   \n",
      "45  {'C': 4714.8663634573895}           0.916667           0.912500   \n",
      "46   {'C': 5689.866029018293}           0.913542           0.912500   \n",
      "47   {'C': 6866.488450042998}           0.911458           0.914583   \n",
      "48   {'C': 8286.427728546843}           0.915625           0.914583   \n",
      "49             {'C': 10000.0}           0.915625           0.912500   \n",
      "\n",
      "    split2_test_score  split3_test_score  split4_test_score  mean_test_score  \\\n",
      "0            0.883333           0.896875           0.885417         0.885000   \n",
      "1            0.884375           0.896875           0.886458         0.885625   \n",
      "2            0.887500           0.897917           0.887500         0.888125   \n",
      "3            0.887500           0.897917           0.888542         0.888750   \n",
      "4            0.889583           0.902083           0.889583         0.890833   \n",
      "5            0.890625           0.901042           0.891667         0.892083   \n",
      "6            0.891667           0.902083           0.896875         0.894583   \n",
      "7            0.893750           0.906250           0.901042         0.897500   \n",
      "8            0.894792           0.909375           0.904167         0.899167   \n",
      "9            0.895833           0.910417           0.904167         0.900000   \n",
      "10           0.894792           0.910417           0.910417         0.901875   \n",
      "11           0.896875           0.909375           0.914583         0.903333   \n",
      "12           0.897917           0.909375           0.915625         0.904375   \n",
      "13           0.901042           0.909375           0.917708         0.905833   \n",
      "14           0.905208           0.912500           0.920833         0.908125   \n",
      "15           0.908333           0.912500           0.923958         0.910000   \n",
      "16           0.909375           0.914583           0.927083         0.911667   \n",
      "17           0.908333           0.916667           0.929167         0.913542   \n",
      "18           0.907292           0.915625           0.928125         0.912917   \n",
      "19           0.908333           0.915625           0.930208         0.913750   \n",
      "20           0.907292           0.915625           0.931250         0.914375   \n",
      "21           0.908333           0.915625           0.933333         0.915625   \n",
      "22           0.908333           0.917708           0.934375         0.916458   \n",
      "23           0.910417           0.918750           0.931250         0.917292   \n",
      "24           0.912500           0.918750           0.931250         0.918333   \n",
      "25           0.913542           0.918750           0.930208         0.918125   \n",
      "26           0.914583           0.919792           0.932292         0.918750   \n",
      "27           0.917708           0.919792           0.932292         0.919375   \n",
      "28           0.918750           0.918750           0.932292         0.919792   \n",
      "29           0.919792           0.920833           0.932292         0.920000   \n",
      "30           0.919792           0.920833           0.932292         0.920000   \n",
      "31           0.915625           0.922917           0.930208         0.919167   \n",
      "32           0.915625           0.921875           0.930208         0.918958   \n",
      "33           0.912500           0.921875           0.928125         0.918125   \n",
      "34           0.912500           0.920833           0.928125         0.918333   \n",
      "35           0.911458           0.920833           0.928125         0.917708   \n",
      "36           0.912500           0.920833           0.927083         0.917708   \n",
      "37           0.910417           0.921875           0.927083         0.917917   \n",
      "38           0.911458           0.921875           0.927083         0.917917   \n",
      "39           0.910417           0.922917           0.928125         0.918125   \n",
      "40           0.910417           0.920833           0.929167         0.917500   \n",
      "41           0.911458           0.921875           0.930208         0.918125   \n",
      "42           0.914583           0.920833           0.931250         0.919375   \n",
      "43           0.912500           0.920833           0.929167         0.917500   \n",
      "44           0.911458           0.921875           0.929167         0.918333   \n",
      "45           0.914583           0.921875           0.932292         0.919583   \n",
      "46           0.915625           0.920833           0.932292         0.918958   \n",
      "47           0.912500           0.921875           0.929167         0.917917   \n",
      "48           0.913542           0.919792           0.930208         0.918750   \n",
      "49           0.914583           0.922917           0.929167         0.918958   \n",
      "\n",
      "    std_test_score  rank_test_score  \n",
      "0         0.006542               50  \n",
      "1         0.006264               49  \n",
      "2         0.005417               48  \n",
      "3         0.004904               47  \n",
      "4         0.005944               46  \n",
      "5         0.004686               45  \n",
      "6         0.004340               44  \n",
      "7         0.005536               43  \n",
      "8         0.006731               42  \n",
      "9         0.006421               41  \n",
      "10        0.007016               40  \n",
      "11        0.007259               39  \n",
      "12        0.007138               38  \n",
      "13        0.006834               37  \n",
      "14        0.007638               36  \n",
      "15        0.007922               35  \n",
      "16        0.008725               34  \n",
      "17        0.008690               32  \n",
      "18        0.008829               33  \n",
      "19        0.008824               31  \n",
      "20        0.008970               30  \n",
      "21        0.009176               29  \n",
      "22        0.009488               28  \n",
      "23        0.007558               27  \n",
      "24        0.006802               13  \n",
      "25        0.006542               18  \n",
      "26        0.007187               11  \n",
      "27        0.006897                5  \n",
      "28        0.006522                3  \n",
      "29        0.006985                1  \n",
      "30        0.006985                1  \n",
      "31        0.006641                7  \n",
      "32        0.006699                8  \n",
      "33        0.006201               16  \n",
      "34        0.005841               13  \n",
      "35        0.006145               23  \n",
      "36        0.005590               23  \n",
      "37        0.005944               22  \n",
      "38        0.005870               20  \n",
      "39        0.006575               18  \n",
      "40        0.006891               25  \n",
      "41        0.007144               16  \n",
      "42        0.006442                6  \n",
      "43        0.006667               25  \n",
      "44        0.006408               13  \n",
      "45        0.007077                4  \n",
      "46        0.007259                8  \n",
      "47        0.006699               20  \n",
      "48        0.006110               11  \n",
      "49        0.006194                8  \n"
     ]
    }
   ],
   "source": [
    "results = pd.DataFrame(bestclf.cv_results_)\n",
    "print(results)"
   ]
  },
  {
   "cell_type": "markdown",
   "id": "bd9ea070",
   "metadata": {},
   "source": [
    "<h1>Part 7: Final Evaluation on Test Set</h1>\n",
    "\n",
    "Positive case = Abnormal cases\n",
    "\n",
    "Negative case = Normal cases\n",
    "\n",
    "FP = Normal classified as Abnormal\n",
    "\n",
    "FN = Abnormal classified as Normal\n",
    "\n",
    "TP = Abnormal classified as Abnormal\n",
    "\n",
    "TN = Normal classified as Normal"
   ]
  },
  {
   "cell_type": "code",
   "execution_count": 11,
   "id": "d684868a",
   "metadata": {},
   "outputs": [],
   "source": [
    "from sklearn import metrics\n",
    "\n",
    "def eval(title, target, prediction):\n",
    "    TP = 0\n",
    "    FP = 0\n",
    "    TN = 0\n",
    "    FN = 0\n",
    "\n",
    "    for true, guess in zip(Y_test, Y_pred):\n",
    "        if(true == 1 and guess == 1):\n",
    "            TP = TP + 1\n",
    "        if(true == 0 and guess == 1):\n",
    "            FP = FP + 1\n",
    "        if(true == 0 and guess == 0):\n",
    "            TN = TN + 1\n",
    "        if(true == 1 and guess == 0):\n",
    "            FN = FN + 1\n",
    "    \n",
    "    precision = TP / (TP + FP)\n",
    "    recall = TP / (TP + FN)\n",
    "    manual_f1 = 2 * (precision * recall) / (precision + recall)\n",
    "    \n",
    "    acc = metrics.accuracy_score(target, prediction)\n",
    "    f1 = metrics.f1_score(target, prediction, pos_label=1)\n",
    "    \n",
    "    target_names = ['normal', 'abnormal']\n",
    "    cm = metrics.confusion_matrix(target, prediction)\n",
    "    cmplt = metrics.ConfusionMatrixDisplay(cm)\n",
    "    cmplt.plot()\n",
    "    plt.title(title)\n",
    "    plt.show()\n",
    "    \n",
    "    print(\"\\n\")\n",
    "    print(title)\n",
    "    print(\"\\n\")\n",
    "    print(\"TP: %d FP: %d TN: %d FN: %d\" % (TP, FP, TN, FN))\n",
    "    print(\"Accuracy: %0.3f\" % acc)\n",
    "    print(\"Built-in function F1: %0.3f\" % f1)\n",
    "    print(\"Manually calculated F1: %0.3f\" % manual_f1)\n",
    "    print(\"\\n\")\n",
    "    \n",
    "    print(metrics.classification_report(target, prediction, target_names=target_names))"
   ]
  },
  {
   "cell_type": "code",
   "execution_count": 12,
   "id": "19d02559",
   "metadata": {},
   "outputs": [
    {
     "name": "stdout",
     "output_type": "stream",
     "text": [
      "{'C': 232.99518105153717}\n"
     ]
    },
    {
     "data": {
      "image/png": "[encoded data removed]",
      "text/plain": [
       "<Figure size 640x480 with 2 Axes>"
      ]
     },
     "metadata": {},
     "output_type": "display_data"
    },
    {
     "name": "stdout",
     "output_type": "stream",
     "text": [
      "\n",
      "\n",
      "Logistic Regression (Best C with StandardScaler)\n",
      "\n",
      "\n",
      "TP: 540 FP: 34 TN: 566 FN: 60\n",
      "Accuracy: 0.922\n",
      "Built-in function F1: 0.920\n",
      "Manually calculated F1: 0.920\n",
      "\n",
      "\n",
      "              precision    recall  f1-score   support\n",
      "\n",
      "      normal       0.90      0.94      0.92       600\n",
      "    abnormal       0.94      0.90      0.92       600\n",
      "\n",
      "    accuracy                           0.92      1200\n",
      "   macro avg       0.92      0.92      0.92      1200\n",
      "weighted avg       0.92      0.92      0.92      1200\n",
      "\n",
      "Final Accuracy:  0.9216666666666666\n"
     ]
    }
   ],
   "source": [
    "print(bestclf.best_params_)\n",
    "Y_pred = bestclf.predict(X_test)\n",
    "eval(\"Logistic Regression (Best C with StandardScaler)\", Y_test, Y_pred)\n",
    "accuracy = bestclf.score(X_test, Y_test)\n",
    "print(\"Final Accuracy: \", accuracy)"
   ]
  },
  {
   "cell_type": "markdown",
   "id": "6f71e3ad",
   "metadata": {},
   "source": [
    "<h1>Part 8: Predicting Test Set</h1>"
   ]
  },
  {
   "cell_type": "code",
   "execution_count": 13,
   "id": "30a8bf0f",
   "metadata": {},
   "outputs": [],
   "source": [
    "Y_final = bestclf.predict(testDataBinary)\n",
    "Y_final = pd.DataFrame(Y_final, columns=['Final Prediction'])"
   ]
  },
  {
   "cell_type": "code",
   "execution_count": 14,
   "id": "e0d2cb30",
   "metadata": {},
   "outputs": [
    {
     "data": {
      "text/plain": [
       "Final Prediction\n",
       "1                   51\n",
       "0                   49\n",
       "dtype: int64"
      ]
     },
     "execution_count": 14,
     "metadata": {},
     "output_type": "execute_result"
    }
   ],
   "source": [
    "Y_final.value_counts()"
   ]
  },
  {
   "cell_type": "markdown",
   "id": "c8581e5c",
   "metadata": {},
   "source": [
    "<h1>Part 9: Exporting to .csv File</h1>"
   ]
  },
  {
   "cell_type": "code",
   "execution_count": 15,
   "id": "1b449dd3",
   "metadata": {},
   "outputs": [],
   "source": [
    "Y_final.to_csv('results_csv/A-Final.csv', index=False)"
   ]
  },
  {
   "cell_type": "code",
   "execution_count": null,
   "id": "06c7972b",
   "metadata": {},
   "outputs": [],
   "source": []
  }
 ],
 "metadata": {
  "kernelspec": {
   "display_name": "Python 3 (ipykernel)",
   "language": "python",
   "name": "python3"
  },
  "language_info": {
   "codemirror_mode": {
    "name": "ipython",
    "version": 3
   },
   "file_extension": ".py",
   "mimetype": "text/x-python",
   "name": "python",
   "nbconvert_exporter": "python",
   "pygments_lexer": "ipython3",
   "version": "3.10.8"
  }
 },
 "nbformat": 4,
 "nbformat_minor": 5
}
